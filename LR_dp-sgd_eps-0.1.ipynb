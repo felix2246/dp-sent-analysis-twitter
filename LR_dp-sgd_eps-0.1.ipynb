{
 "cells": [
  {
   "cell_type": "code",
   "execution_count": 1,
   "metadata": {},
   "outputs": [],
   "source": [
    "import pandas as pd\n",
    "import numpy as np\n",
    "import random\n",
    "import json\n",
    "import math\n",
    "from sklearn.feature_extraction.text import TfidfVectorizer, CountVectorizer\n",
    "from scipy.sparse import csr_matrix\n",
    "from sklearn.metrics import classification_report, accuracy_score, plot_confusion_matrix\n",
    "from sklearn.model_selection import train_test_split\n",
    "import matplotlib.pyplot as plt\n",
    "from sklearn.linear_model import LogisticRegression\n",
    "import tensorflow as tf\n",
    "import keras\n",
    "import tensorflow_privacy.privacy.optimizers as optimizers\n",
    "from tensorflow_privacy.privacy.analysis.compute_dp_sgd_privacy_lib import compute_dp_sgd_privacy\n",
    "import gc\n",
    "from tensorflow.keras import backend as k\n",
    "\n",
    "import warnings\n",
    "warnings.filterwarnings('ignore')\n",
    "#tf.compat.v1.disable_v2_behavior()\n"
   ]
  },
  {
   "cell_type": "code",
   "execution_count": 2,
   "metadata": {},
   "outputs": [],
   "source": [
    "def set_random_seeds(seed):\n",
    "    np.random.seed(seed)\n",
    "    random.seed(seed)"
   ]
  },
  {
   "cell_type": "code",
   "execution_count": 3,
   "metadata": {},
   "outputs": [],
   "source": [
    "FILES_DIRECTORY = 'data/csv_rows/'\n",
    "EPOCHS = 58\n",
    "LEARNING_RATE = 1e-3\n",
    "N = 1421664\n",
    "NUMBER_OF_FEATURES = 5000\n",
    "BATCH_SIZE = 16\n",
    "DELTA = 1e-7\n",
    "NOISE_MULTIPLIER = 2.373\n"
   ]
  },
  {
   "cell_type": "code",
   "execution_count": 4,
   "metadata": {},
   "outputs": [],
   "source": [
    "def print_msg_box(msg, indent=1, width=None, title=None):\n",
    "    \"\"\"Print message-box with optional title.\"\"\"\n",
    "    lines = msg.split('\\n')\n",
    "    space = \" \" * indent\n",
    "    if not width:\n",
    "        width = max(map(len, lines))\n",
    "    box = f'╔{\"═\" * (width + indent * 2)}╗\\n'  # upper_border\n",
    "    if title:\n",
    "        box += f'║{space}{title:<{width}}{space}║\\n'  # title\n",
    "        box += f'║{space}{\"-\" * len(title):<{width}}{space}║\\n'  # underscore\n",
    "    box += ''.join([f'║{space}{line:<{width}}{space}║\\n' for line in lines])\n",
    "    box += f'╚{\"═\" * (width + indent * 2)}╝'  # lower_border\n",
    "    print(box)\n"
   ]
  },
  {
   "cell_type": "markdown",
   "metadata": {},
   "source": [
    "# Create bow model"
   ]
  },
  {
   "cell_type": "code",
   "execution_count": 5,
   "metadata": {},
   "outputs": [],
   "source": [
    "def shuffle_data(data):\n",
    "    set_random_seeds(42)\n",
    "    data = data.sample(frac=1).reset_index(drop=True)\n",
    "    return data"
   ]
  },
  {
   "cell_type": "code",
   "execution_count": 6,
   "metadata": {},
   "outputs": [],
   "source": [
    "f_stopwords = open('stopwords.json')\n",
    "stopwords_list = json.load(f_stopwords)"
   ]
  },
  {
   "cell_type": "code",
   "execution_count": 7,
   "metadata": {},
   "outputs": [],
   "source": [
    "def create_bow_model(train_data, test_data, metric: str, remove_stop_words: bool):\n",
    "    #stop words removal\n",
    "    stop_words = None\n",
    "    if (remove_stop_words == True):\n",
    "        stop_words = stopwords_list\n",
    "\n",
    "    token_pattern = r\"(?u)\\b\\w\\w+\\b\"\n",
    "\n",
    "    #create model with given metric\n",
    "    bow = None\n",
    "    if (metric == 'count'):\n",
    "        bow = CountVectorizer(\n",
    "            max_features=NUMBER_OF_FEATURES, stop_words=stop_words, token_pattern=token_pattern)\n",
    "    elif (metric == 'tfidf'):\n",
    "        bow = TfidfVectorizer(\n",
    "            max_features=NUMBER_OF_FEATURES, stop_words=stop_words, token_pattern=token_pattern)\n",
    "    elif (metric == 'binary'):\n",
    "        bow = CountVectorizer(max_features=NUMBER_OF_FEATURES, stop_words=stop_words,\n",
    "                              binary=True, token_pattern=token_pattern)\n",
    "    else:\n",
    "        raise ValueError(\"metric must be either %s or %s or %s!\" %\n",
    "                         ('<count>', '<tfidf>', '<binary>'))\n",
    "\n",
    "    #create data partititions\n",
    "    X_train = bow.fit_transform(train_data['content'])\n",
    "    y_train = train_data['polarity']\n",
    "    X_test = bow.transform(test_data['content'])\n",
    "    y_test = test_data['polarity']\n",
    "\n",
    "    return (X_train, y_train, X_test, y_test)"
   ]
  },
  {
   "cell_type": "markdown",
   "metadata": {},
   "source": [
    "# Calculate privacy budget"
   ]
  },
  {
   "cell_type": "code",
   "execution_count": 8,
   "metadata": {},
   "outputs": [
    {
     "name": "stdout",
     "output_type": "stream",
     "text": [
      "DP-SGD with sampling rate = 0.00113% and noise_multiplier = 2.373 iterated over 5153532 steps satisfies differential privacy with eps = 0.1 and delta = 1e-07.\n",
      "The optimal RDP order is 128.0.\n"
     ]
    },
    {
     "data": {
      "text/plain": [
       "(0.0999840168186655, 128.0)"
      ]
     },
     "execution_count": 8,
     "metadata": {},
     "output_type": "execute_result"
    }
   ],
   "source": [
    "compute_dp_sgd_privacy(N, BATCH_SIZE, NOISE_MULTIPLIER,\n",
    "                       EPOCHS, DELTA)"
   ]
  },
  {
   "cell_type": "markdown",
   "metadata": {},
   "source": [
    "# Train models"
   ]
  },
  {
   "cell_type": "markdown",
   "metadata": {},
   "source": [
    "## Logistic Regression"
   ]
  },
  {
   "cell_type": "code",
   "execution_count": 9,
   "metadata": {},
   "outputs": [],
   "source": [
    "def unison_shuffled_copies(a, b):\n",
    "    assert a.shape[0] == len(b)\n",
    "    shuffler = np.random.permutation(a.shape[0])\n",
    "    return a[shuffler], b[shuffler]\n"
   ]
  },
  {
   "cell_type": "code",
   "execution_count": 10,
   "metadata": {},
   "outputs": [],
   "source": [
    "def build_lr_model_baseline():\n",
    "    model = tf.keras.models.Sequential()\n",
    "    model.add(tf.keras.layers.Dense(\n",
    "        1, activation='sigmoid', input_dim=NUMBER_OF_FEATURES))\n",
    "    loss = tf.keras.losses.BinaryCrossentropy(reduction=tf.losses.Reduction.NONE)\n",
    "    model.compile(\n",
    "        optimizer=tf.keras.optimizers.SGD(learning_rate=LEARNING_RATE),\n",
    "        loss=loss,\n",
    "        metrics=['accuracy'])\n",
    "    return model"
   ]
  },
  {
   "cell_type": "code",
   "execution_count": 11,
   "metadata": {},
   "outputs": [],
   "source": [
    "def build_lr_model_DP():\n",
    "    model = tf.keras.models.Sequential()\n",
    "    model.add(tf.keras.layers.Dense(1, activation='sigmoid',\n",
    "                    input_dim=NUMBER_OF_FEATURES))\n",
    "    loss = tf.keras.losses.BinaryCrossentropy(\n",
    "        reduction=tf.losses.Reduction.NONE)\n",
    "    model.compile(\n",
    "        optimizer=optimizers.dp_optimizer_keras.DPKerasSGDOptimizer(\n",
    "            l2_norm_clip=1,\n",
    "            noise_multiplier=NOISE_MULTIPLIER,\n",
    "            num_microbatches=BATCH_SIZE,\n",
    "            learning_rate=LEARNING_RATE),\n",
    "        loss=loss,\n",
    "        metrics=['accuracy'])\n",
    "    return model\n"
   ]
  },
  {
   "cell_type": "code",
   "execution_count": 12,
   "metadata": {},
   "outputs": [],
   "source": [
    "def plot_training_loss(history):\n",
    "    #take average loss of each epoch\n",
    "    history.history['loss'] = [(lambda x: np.mean(x))(x)\n",
    "                               for x in history.history['loss']]\n",
    "    history.history['val_loss'] = [(lambda x: np.mean(x))(x)\n",
    "                                   for x in history.history['val_loss']]\n",
    "\n",
    "    # summarize history for loss\n",
    "    plt.plot(range(1, len(history.history['loss'])+1),\n",
    "             history.history['loss'], label=\"train\")\n",
    "    plt.plot(range(1, len(history.history['val_loss'])+1),\n",
    "             history.history['val_loss'], label=\"test\")\n",
    "    plt.title('model loss')\n",
    "    plt.legend()\n",
    "    plt.ylabel('loss')\n",
    "    plt.xlabel('epoch')\n",
    "    plt.show()\n"
   ]
  },
  {
   "cell_type": "code",
   "execution_count": 13,
   "metadata": {},
   "outputs": [],
   "source": [
    "def plot_training_acc(history):\n",
    "    #take average loss of each epoch\n",
    "    history.history['accuracy'] = [(lambda x: np.mean(x))(x)\n",
    "                                   for x in history.history['accuracy']]\n",
    "    history.history['val_accuracy'] = [(lambda x: np.mean(x))(x)\n",
    "                                       for x in history.history['val_accuracy']]\n",
    "\n",
    "    # summarize history for acc\n",
    "    plt.plot(range(1, len(history.history['accuracy'])+1),\n",
    "             history.history['accuracy'], label=\"train\")\n",
    "    plt.plot(range(1, len(history.history['val_accuracy'])+1),\n",
    "             history.history['val_accuracy'], label=\"test\")\n",
    "    plt.title('model accuracy')\n",
    "    plt.legend()\n",
    "    plt.ylabel('accuracy')\n",
    "    plt.xlabel('epoch')\n",
    "    plt.show()\n"
   ]
  },
  {
   "cell_type": "code",
   "execution_count": 14,
   "metadata": {},
   "outputs": [],
   "source": [
    "def evaluate_model(model, test_X, test_y):\n",
    "    yhat = model.predict(test_X)\n",
    "\n",
    "    yhat[yhat < 0.5] = 0\n",
    "    yhat[yhat >= 0.5] = 1\n",
    "\n",
    "    acc = accuracy_score(test_y, yhat)\n",
    "    print(classification_report(test_y, yhat))\n",
    "    print('Accuracy: ' + str(acc))\n",
    "    \n",
    "    return acc"
   ]
  },
  {
   "cell_type": "code",
   "execution_count": 15,
   "metadata": {},
   "outputs": [],
   "source": [
    "def save_history_to_file(history, file):\n",
    "    hist_df = pd.DataFrame(history.history)\n",
    "    hist_df.to_csv(file)"
   ]
  },
  {
   "cell_type": "code",
   "execution_count": 16,
   "metadata": {},
   "outputs": [],
   "source": [
    "def generate_batches_shuffled(X_train_bow, y_train_bow):\n",
    "    set_random_seeds(42)\n",
    "    while True:\n",
    "        #shuffle before each epoch\n",
    "        X_train_bow, y_train_bow = unison_shuffled_copies(\n",
    "            X_train_bow, y_train_bow)\n",
    "        for j in range(0, X_train_bow.shape[0], BATCH_SIZE):\n",
    "            x_batch = X_train_bow[j: j+BATCH_SIZE, :].todense()\n",
    "            y_batch = y_train_bow[j: j+BATCH_SIZE]\n",
    "            yield (x_batch, y_batch)\n",
    "\n",
    "        gc.collect()"
   ]
  },
  {
   "cell_type": "code",
   "execution_count": 17,
   "metadata": {},
   "outputs": [],
   "source": [
    "def train(model, X_train, y_train, X_val, y_val, preprocessing_row, metric):\n",
    "    set_random_seeds(42)\n",
    "\n",
    "    print(\"\\n\")\n",
    "    print_msg_box('Logistic Regression:', indent=10)\n",
    "    \n",
    "    #callbacks\n",
    "    reduce_lr = tf.keras.callbacks.ReduceLROnPlateau(monitor='val_loss', factor=0.1,\n",
    "                                                     patience=3, min_lr=1e-6, verbose=1, min_delta=1e-5)\n",
    "    #train\n",
    "    history = model.fit_generator(generate_batches_shuffled(X_train, y_train), steps_per_epoch=math.ceil(len(y_train) / BATCH_SIZE), epochs=EPOCHS,\n",
    "                                  use_multiprocessing=False, shuffle=True, validation_data=(X_val.todense(), y_val), callbacks=[reduce_lr])\n",
    "    print(model.summary())\n",
    "    return history"
   ]
  },
  {
   "cell_type": "code",
   "execution_count": 18,
   "metadata": {},
   "outputs": [],
   "source": [
    "def train_LR(X_train, y_train, X_test, y_test, X_val, y_val, metric, preprocessing_row):\n",
    "\n",
    "    lr_model = build_lr_model_DP()\n",
    "    history = train(lr_model, X_train=X_train, y_train=y_train, X_val=X_val, y_val=y_val, preprocessing_row=preprocessing_row, metric=metric)\n",
    "    \n",
    "    save_history_to_file(\n",
    "        history, \"models/histories/history_dp-eps=0-1.csv\")\n",
    "    \n",
    "    #plots\n",
    "    plot_training_loss(history)\n",
    "    plot_training_acc(history)\n",
    "\n",
    "    return evaluate_model(lr_model, X_test.todense(), y_test)"
   ]
  },
  {
   "cell_type": "markdown",
   "metadata": {},
   "source": [
    "# Main function"
   ]
  },
  {
   "cell_type": "code",
   "execution_count": 19,
   "metadata": {},
   "outputs": [],
   "source": [
    "def sentiment_analysis(remove_stop_words: bool, metric: str, preprocessing_row: int):\n",
    "\n",
    "    msg = \"Metric: %s\\n\" \\\n",
    "            \"Preprocessing row: %d\\n\" \\\n",
    "            \"Removing stop words: %s\" % (metric, preprocessing_row, remove_stop_words)\n",
    "\n",
    "    print_msg_box(msg=msg, indent=30, title='Sentiment Analysis:')\n",
    "\n",
    "    #load train data\n",
    "    print(\"\\nLoad train data from %strain_row_%d.csv\" %\n",
    "          (FILES_DIRECTORY, preprocessing_row))\n",
    "    train_data = pd.read_csv(\"%strain_row_%d.csv\" % (FILES_DIRECTORY, preprocessing_row))\n",
    "    train_data['content'] = train_data['content'].values.astype('str')\n",
    "    \n",
    "    #shuffle train data\n",
    "    train_data = shuffle_data(train_data)\n",
    "\n",
    "    #load test data\n",
    "    print(\"Load test data from %stest_row_%d.csv\\n\" % (FILES_DIRECTORY, preprocessing_row))\n",
    "    test_data = pd.read_csv(\"%stest_row_%d.csv\" % (FILES_DIRECTORY, preprocessing_row))\n",
    "    \n",
    "    #create bow model\n",
    "    X_train, y_train, X_test, y_test = create_bow_model(\n",
    "        train_data=train_data, test_data=test_data, metric=metric, remove_stop_words=remove_stop_words)\n",
    "        \n",
    "    #reshape label vectors\n",
    "    y_train[y_train == 4] = 1\n",
    "    y_train = y_train.values.reshape(-1, 1)\n",
    "    y_test[y_test == 4] = 1\n",
    "    y_test = y_test.values.reshape(-1, 1)\n",
    "\n",
    "    #split into train and validation data\n",
    "    X_train, X_val, y_train, y_val = train_test_split(\n",
    "        X_train, y_train, test_size=0.1, random_state=42)\n",
    "\n",
    "    #leave out 6 samples because length has to be divisible by BATCH_SIZE (limitation by tensorflow privacy)\n",
    "    leave_out_samples_X = X_train[-6:]\n",
    "    leave_out_samples_y = y_train[-6:]\n",
    "    X_train = X_train[:-6]\n",
    "    y_train = y_train[:-6]\n",
    "    \n",
    "    #train LR Model\n",
    "    acc_lr = train_LR(X_train=X_train, y_train=y_train, X_test=X_test, y_test=y_test,\n",
    "                      X_val=X_val, y_val=y_val, metric=metric, preprocessing_row=preprocessing_row)"
   ]
  },
  {
   "cell_type": "markdown",
   "metadata": {
    "tags": []
   },
   "source": [
    "# Execution"
   ]
  },
  {
   "cell_type": "code",
   "execution_count": 20,
   "metadata": {},
   "outputs": [
    {
     "name": "stdout",
     "output_type": "stream",
     "text": [
      "╔═════════════════════════════════════════════════════════════════════════════════════╗\n",
      "║                              Sentiment Analysis:                                    ║\n",
      "║                              -------------------                                    ║\n",
      "║                              Metric: count                                          ║\n",
      "║                              Preprocessing row: 3                                   ║\n",
      "║                              Removing stop words: True                              ║\n",
      "╚═════════════════════════════════════════════════════════════════════════════════════╝\n",
      "\n",
      "Load train data from data/csv_rows/train_row_3.csv\n",
      "Load test data from data/csv_rows/test_row_3.csv\n",
      "\n",
      "\n",
      "\n",
      "╔════════════════════════════════════════╗\n",
      "║          Logistic Regression:          ║\n",
      "╚════════════════════════════════════════╝\n",
      "Epoch 1/58\n",
      "88854/88854 [==============================] - 147s 2ms/step - loss: 0.6557 - accuracy: 0.6079 - val_loss: 0.6408 - val_accuracy: 0.6171 - lr: 0.0010\n",
      "Epoch 2/58\n",
      "88854/88854 [==============================] - 147s 2ms/step - loss: 0.6288 - accuracy: 0.6337 - val_loss: 0.6189 - val_accuracy: 0.6479 - lr: 0.0010\n",
      "Epoch 3/58\n",
      "88854/88854 [==============================] - 148s 2ms/step - loss: 0.6090 - accuracy: 0.6576 - val_loss: 0.6034 - val_accuracy: 0.6659 - lr: 0.0010\n",
      "Epoch 4/58\n",
      "88854/88854 [==============================] - 150s 2ms/step - loss: 0.5960 - accuracy: 0.6730 - val_loss: 0.5927 - val_accuracy: 0.6787 - lr: 0.0010\n",
      "Epoch 5/58\n",
      "88854/88854 [==============================] - 154s 2ms/step - loss: 0.5871 - accuracy: 0.6837 - val_loss: 0.5841 - val_accuracy: 0.6888 - lr: 0.0010\n",
      "Epoch 6/58\n",
      "88854/88854 [==============================] - 155s 2ms/step - loss: 0.5805 - accuracy: 0.6913 - val_loss: 0.5807 - val_accuracy: 0.6936 - lr: 0.0010\n",
      "Epoch 7/58\n",
      "88854/88854 [==============================] - 157s 2ms/step - loss: 0.5761 - accuracy: 0.6968 - val_loss: 0.5748 - val_accuracy: 0.6996 - lr: 0.0010\n",
      "Epoch 8/58\n",
      "88854/88854 [==============================] - 159s 2ms/step - loss: 0.5715 - accuracy: 0.7028 - val_loss: 0.5709 - val_accuracy: 0.7036 - lr: 0.0010\n",
      "Epoch 9/58\n",
      "88854/88854 [==============================] - 161s 2ms/step - loss: 0.5688 - accuracy: 0.7060 - val_loss: 0.5689 - val_accuracy: 0.7065 - lr: 0.0010\n",
      "Epoch 10/58\n",
      "88854/88854 [==============================] - 162s 2ms/step - loss: 0.5652 - accuracy: 0.7094 - val_loss: 0.5649 - val_accuracy: 0.7099 - lr: 0.0010\n",
      "Epoch 11/58\n",
      "88854/88854 [==============================] - 163s 2ms/step - loss: 0.5631 - accuracy: 0.7118 - val_loss: 0.5644 - val_accuracy: 0.7118 - lr: 0.0010\n",
      "Epoch 12/58\n",
      "88854/88854 [==============================] - 167s 2ms/step - loss: 0.5617 - accuracy: 0.7145 - val_loss: 0.5634 - val_accuracy: 0.7144 - lr: 0.0010\n",
      "Epoch 13/58\n",
      "88854/88854 [==============================] - 168s 2ms/step - loss: 0.5611 - accuracy: 0.7162 - val_loss: 0.5618 - val_accuracy: 0.7159 - lr: 0.0010\n",
      "Epoch 14/58\n",
      "88854/88854 [==============================] - 170s 2ms/step - loss: 0.5597 - accuracy: 0.7180 - val_loss: 0.5600 - val_accuracy: 0.7183 - lr: 0.0010\n",
      "Epoch 15/58\n",
      "88854/88854 [==============================] - 170s 2ms/step - loss: 0.5576 - accuracy: 0.7205 - val_loss: 0.5583 - val_accuracy: 0.7207 - lr: 0.0010\n",
      "Epoch 16/58\n",
      "88854/88854 [==============================] - 173s 2ms/step - loss: 0.5564 - accuracy: 0.7223 - val_loss: 0.5579 - val_accuracy: 0.7227 - lr: 0.0010\n",
      "Epoch 17/58\n",
      "88854/88854 [==============================] - 174s 2ms/step - loss: 0.5551 - accuracy: 0.7240 - val_loss: 0.5554 - val_accuracy: 0.7250 - lr: 0.0010\n",
      "Epoch 18/58\n",
      "88854/88854 [==============================] - 174s 2ms/step - loss: 0.5537 - accuracy: 0.7252 - val_loss: 0.5549 - val_accuracy: 0.7254 - lr: 0.0010\n",
      "Epoch 19/58\n",
      "88854/88854 [==============================] - 175s 2ms/step - loss: 0.5534 - accuracy: 0.7263 - val_loss: 0.5539 - val_accuracy: 0.7271 - lr: 0.0010\n",
      "Epoch 20/58\n",
      "88854/88854 [==============================] - 177s 2ms/step - loss: 0.5526 - accuracy: 0.7274 - val_loss: 0.5532 - val_accuracy: 0.7280 - lr: 0.0010\n",
      "Epoch 21/58\n",
      "88854/88854 [==============================] - 180s 2ms/step - loss: 0.5520 - accuracy: 0.7285 - val_loss: 0.5535 - val_accuracy: 0.7284 - lr: 0.0010\n",
      "Epoch 22/58\n",
      "88854/88854 [==============================] - 183s 2ms/step - loss: 0.5529 - accuracy: 0.7284 - val_loss: 0.5551 - val_accuracy: 0.7283 - lr: 0.0010\n",
      "Epoch 23/58\n",
      "88854/88854 [==============================] - ETA: 0s - loss: 0.5526 - accuracy: 0.7292\n",
      "Epoch 23: ReduceLROnPlateau reducing learning rate to 0.00010000000474974513.\n",
      "88854/88854 [==============================] - 181s 2ms/step - loss: 0.5526 - accuracy: 0.7292 - val_loss: 0.5543 - val_accuracy: 0.7290 - lr: 0.0010\n",
      "Epoch 24/58\n",
      "88854/88854 [==============================] - 185s 2ms/step - loss: 0.5525 - accuracy: 0.7296 - val_loss: 0.5541 - val_accuracy: 0.7291 - lr: 1.0000e-04\n",
      "Epoch 25/58\n",
      "88854/88854 [==============================] - 186s 2ms/step - loss: 0.5523 - accuracy: 0.7297 - val_loss: 0.5540 - val_accuracy: 0.7292 - lr: 1.0000e-04\n",
      "Epoch 26/58\n",
      "88854/88854 [==============================] - ETA: 0s - loss: 0.5522 - accuracy: 0.7298\n",
      "Epoch 26: ReduceLROnPlateau reducing learning rate to 1.0000000474974514e-05.\n",
      "88854/88854 [==============================] - 188s 2ms/step - loss: 0.5522 - accuracy: 0.7298 - val_loss: 0.5538 - val_accuracy: 0.7293 - lr: 1.0000e-04\n",
      "Epoch 27/58\n",
      "88854/88854 [==============================] - 187s 2ms/step - loss: 0.5522 - accuracy: 0.7298 - val_loss: 0.5538 - val_accuracy: 0.7293 - lr: 1.0000e-05\n",
      "Epoch 28/58\n",
      "88854/88854 [==============================] - 192s 2ms/step - loss: 0.5521 - accuracy: 0.7298 - val_loss: 0.5538 - val_accuracy: 0.7293 - lr: 1.0000e-05\n",
      "Epoch 29/58\n",
      "88854/88854 [==============================] - ETA: 0s - loss: 0.5521 - accuracy: 0.7298\n",
      "Epoch 29: ReduceLROnPlateau reducing learning rate to 1.0000000656873453e-06.\n",
      "88854/88854 [==============================] - 192s 2ms/step - loss: 0.5521 - accuracy: 0.7298 - val_loss: 0.5538 - val_accuracy: 0.7293 - lr: 1.0000e-05\n",
      "Epoch 30/58\n",
      "88854/88854 [==============================] - 193s 2ms/step - loss: 0.5521 - accuracy: 0.7298 - val_loss: 0.5538 - val_accuracy: 0.7293 - lr: 1.0000e-06\n",
      "Epoch 31/58\n",
      "88854/88854 [==============================] - 194s 2ms/step - loss: 0.5521 - accuracy: 0.7298 - val_loss: 0.5538 - val_accuracy: 0.7293 - lr: 1.0000e-06\n",
      "Epoch 32/58\n",
      "88854/88854 [==============================] - ETA: 0s - loss: 0.5521 - accuracy: 0.7298\n",
      "Epoch 32: ReduceLROnPlateau reducing learning rate to 1e-06.\n",
      "88854/88854 [==============================] - 209s 2ms/step - loss: 0.5521 - accuracy: 0.7298 - val_loss: 0.5538 - val_accuracy: 0.7293 - lr: 1.0000e-06\n",
      "Epoch 33/58\n",
      "88854/88854 [==============================] - 202s 2ms/step - loss: 0.5521 - accuracy: 0.7298 - val_loss: 0.5538 - val_accuracy: 0.7293 - lr: 1.0000e-06\n",
      "Epoch 34/58\n",
      "88854/88854 [==============================] - 201s 2ms/step - loss: 0.5521 - accuracy: 0.7298 - val_loss: 0.5538 - val_accuracy: 0.7293 - lr: 1.0000e-06\n",
      "Epoch 35/58\n",
      "88854/88854 [==============================] - 204s 2ms/step - loss: 0.5521 - accuracy: 0.7298 - val_loss: 0.5538 - val_accuracy: 0.7293 - lr: 1.0000e-06\n",
      "Epoch 36/58\n",
      "88854/88854 [==============================] - 206s 2ms/step - loss: 0.5521 - accuracy: 0.7298 - val_loss: 0.5538 - val_accuracy: 0.7293 - lr: 1.0000e-06\n",
      "Epoch 37/58\n",
      "88854/88854 [==============================] - 208s 2ms/step - loss: 0.5521 - accuracy: 0.7298 - val_loss: 0.5538 - val_accuracy: 0.7293 - lr: 1.0000e-06\n",
      "Epoch 38/58\n",
      "88854/88854 [==============================] - 212s 2ms/step - loss: 0.5521 - accuracy: 0.7298 - val_loss: 0.5538 - val_accuracy: 0.7293 - lr: 1.0000e-06\n",
      "Epoch 39/58\n",
      "88854/88854 [==============================] - 214s 2ms/step - loss: 0.5521 - accuracy: 0.7298 - val_loss: 0.5538 - val_accuracy: 0.7293 - lr: 1.0000e-06\n",
      "Epoch 40/58\n",
      "88854/88854 [==============================] - 217s 2ms/step - loss: 0.5521 - accuracy: 0.7298 - val_loss: 0.5538 - val_accuracy: 0.7293 - lr: 1.0000e-06\n",
      "Epoch 41/58\n",
      "88854/88854 [==============================] - 218s 2ms/step - loss: 0.5521 - accuracy: 0.7298 - val_loss: 0.5538 - val_accuracy: 0.7293 - lr: 1.0000e-06\n",
      "Epoch 42/58\n",
      "88854/88854 [==============================] - 221s 2ms/step - loss: 0.5521 - accuracy: 0.7298 - val_loss: 0.5538 - val_accuracy: 0.7293 - lr: 1.0000e-06\n",
      "Epoch 43/58\n",
      "88854/88854 [==============================] - 228s 3ms/step - loss: 0.5521 - accuracy: 0.7298 - val_loss: 0.5538 - val_accuracy: 0.7293 - lr: 1.0000e-06\n",
      "Epoch 44/58\n",
      "88854/88854 [==============================] - 224s 3ms/step - loss: 0.5521 - accuracy: 0.7298 - val_loss: 0.5538 - val_accuracy: 0.7293 - lr: 1.0000e-06\n",
      "Epoch 45/58\n",
      "88854/88854 [==============================] - 233s 3ms/step - loss: 0.5521 - accuracy: 0.7298 - val_loss: 0.5538 - val_accuracy: 0.7293 - lr: 1.0000e-06\n",
      "Epoch 46/58\n",
      "88854/88854 [==============================] - 231s 3ms/step - loss: 0.5521 - accuracy: 0.7298 - val_loss: 0.5538 - val_accuracy: 0.7293 - lr: 1.0000e-06\n",
      "Epoch 47/58\n",
      "88854/88854 [==============================] - 241s 3ms/step - loss: 0.5521 - accuracy: 0.7299 - val_loss: 0.5538 - val_accuracy: 0.7293 - lr: 1.0000e-06\n",
      "Epoch 48/58\n",
      "88854/88854 [==============================] - 234s 3ms/step - loss: 0.5521 - accuracy: 0.7299 - val_loss: 0.5538 - val_accuracy: 0.7293 - lr: 1.0000e-06\n",
      "Epoch 49/58\n",
      "88854/88854 [==============================] - 239s 3ms/step - loss: 0.5521 - accuracy: 0.7299 - val_loss: 0.5538 - val_accuracy: 0.7293 - lr: 1.0000e-06\n",
      "Epoch 50/58\n",
      "88854/88854 [==============================] - 251s 3ms/step - loss: 0.5521 - accuracy: 0.7299 - val_loss: 0.5538 - val_accuracy: 0.7293 - lr: 1.0000e-06\n",
      "Epoch 51/58\n",
      "88854/88854 [==============================] - 242s 3ms/step - loss: 0.5521 - accuracy: 0.7299 - val_loss: 0.5538 - val_accuracy: 0.7293 - lr: 1.0000e-06\n",
      "Epoch 52/58\n",
      "88854/88854 [==============================] - 244s 3ms/step - loss: 0.5521 - accuracy: 0.7299 - val_loss: 0.5538 - val_accuracy: 0.7293 - lr: 1.0000e-06\n",
      "Epoch 53/58\n",
      "88854/88854 [==============================] - 248s 3ms/step - loss: 0.5521 - accuracy: 0.7299 - val_loss: 0.5538 - val_accuracy: 0.7293 - lr: 1.0000e-06\n",
      "Epoch 54/58\n",
      "88854/88854 [==============================] - 262s 3ms/step - loss: 0.5521 - accuracy: 0.7299 - val_loss: 0.5538 - val_accuracy: 0.7293 - lr: 1.0000e-06\n",
      "Epoch 55/58\n",
      "88854/88854 [==============================] - 253s 3ms/step - loss: 0.5521 - accuracy: 0.7299 - val_loss: 0.5537 - val_accuracy: 0.7293 - lr: 1.0000e-06\n",
      "Epoch 56/58\n",
      "88854/88854 [==============================] - 263s 3ms/step - loss: 0.5521 - accuracy: 0.7299 - val_loss: 0.5537 - val_accuracy: 0.7293 - lr: 1.0000e-06\n",
      "Epoch 57/58\n",
      "88854/88854 [==============================] - 262s 3ms/step - loss: 0.5521 - accuracy: 0.7299 - val_loss: 0.5537 - val_accuracy: 0.7293 - lr: 1.0000e-06\n",
      "Epoch 58/58\n",
      "88854/88854 [==============================] - 263s 3ms/step - loss: 0.5521 - accuracy: 0.7299 - val_loss: 0.5537 - val_accuracy: 0.7293 - lr: 1.0000e-06\n",
      "Model: \"sequential\"\n",
      "_________________________________________________________________\n",
      " Layer (type)                Output Shape              Param #   \n",
      "=================================================================\n",
      " dense (Dense)               (None, 1)                 5001      \n",
      "                                                                 \n",
      "=================================================================\n",
      "Total params: 5,001\n",
      "Trainable params: 5,001\n",
      "Non-trainable params: 0\n",
      "_________________________________________________________________\n",
      "None\n"
     ]
    },
    {
     "data": {
      "image/png": "[encoded data removed]",
      "text/plain": [
       "<Figure size 640x480 with 1 Axes>"
      ]
     },
     "metadata": {},
     "output_type": "display_data"
    },
    {
     "data": {
      "image/png": "[encoded data removed]",
      "text/plain": [
       "<Figure size 640x480 with 1 Axes>"
      ]
     },
     "metadata": {},
     "output_type": "display_data"
    },
    {
     "name": "stdout",
     "output_type": "stream",
     "text": [
      "12/12 [==============================] - 0s 1ms/step\n",
      "              precision    recall  f1-score   support\n",
      "\n",
      "           0       0.79      0.71      0.74       177\n",
      "           1       0.74      0.81      0.77       182\n",
      "\n",
      "    accuracy                           0.76       359\n",
      "   macro avg       0.76      0.76      0.76       359\n",
      "weighted avg       0.76      0.76      0.76       359\n",
      "\n",
      "Accuracy: 0.7604456824512534\n"
     ]
    }
   ],
   "source": [
    "sentiment_analysis(True, metric= \"count\", preprocessing_row=3)"
   ]
  }
 ],
 "metadata": {
  "kernelspec": {
   "display_name": "Python 3.9.5 64-bit",
   "language": "python",
   "name": "python3"
  },
  "language_info": {
   "codemirror_mode": {
    "name": "ipython",
    "version": 3
   },
   "file_extension": ".py",
   "mimetype": "text/x-python",
   "name": "python",
   "nbconvert_exporter": "python",
   "pygments_lexer": "ipython3",
   "version": "3.9.5"
  },
  "vscode": {
   "interpreter": {
    "hash": "542bad02869b321a73a7da5260ee6f5456fa9b86f73b69a004054f84e7b0338b"
   }
  }
 },
 "nbformat": 4,
 "nbformat_minor": 4
}
