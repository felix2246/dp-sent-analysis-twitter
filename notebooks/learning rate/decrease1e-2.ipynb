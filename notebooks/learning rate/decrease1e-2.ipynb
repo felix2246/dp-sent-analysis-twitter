{
 "cells": [
  {
   "cell_type": "code",
   "execution_count": 1,
   "metadata": {},
   "outputs": [],
   "source": [
    "import pandas as pd\n",
    "import numpy as np\n",
    "import random\n",
    "import json\n",
    "import math\n",
    "from sklearn.feature_extraction.text import TfidfVectorizer, CountVectorizer\n",
    "from scipy.sparse import csr_matrix\n",
    "import matplotlib.pyplot as plt\n",
    "import tensorflow as tf\n",
    "from sklearn.model_selection import train_test_split\n",
    "from sklearn.metrics import classification_report, accuracy_score\n",
    "import gc\n",
    "\n",
    "import warnings\n",
    "warnings.filterwarnings('ignore')"
   ]
  },
  {
   "cell_type": "code",
   "execution_count": 2,
   "metadata": {},
   "outputs": [],
   "source": [
    "def set_random_seeds(seed):\n",
    "    np.random.seed(seed)\n",
    "    random.seed(seed)"
   ]
  },
  {
   "cell_type": "code",
   "execution_count": 3,
   "metadata": {},
   "outputs": [],
   "source": [
    "FILES_DIRECTORY = 'data/csv_rows/'\n",
    "MAX_EPOCHS = 100\n",
    "LEARNING_RATE = 1e-2\n",
    "N = 1579634\n",
    "NUMBER_OF_FEATURES = 5000\n",
    "BATCH_SIZE = 16"
   ]
  },
  {
   "cell_type": "code",
   "execution_count": 4,
   "metadata": {},
   "outputs": [],
   "source": [
    "def print_msg_box(msg, indent=1, width=None, title=None):\n",
    "    \"\"\"Print message-box with optional title.\"\"\"\n",
    "    lines = msg.split('\\n')\n",
    "    space = \" \" * indent\n",
    "    if not width:\n",
    "        width = max(map(len, lines))\n",
    "    box = f'╔{\"═\" * (width + indent * 2)}╗\\n'  # upper_border\n",
    "    if title:\n",
    "        box += f'║{space}{title:<{width}}{space}║\\n'  # title\n",
    "        box += f'║{space}{\"-\" * len(title):<{width}}{space}║\\n'  # underscore\n",
    "    box += ''.join([f'║{space}{line:<{width}}{space}║\\n' for line in lines])\n",
    "    box += f'╚{\"═\" * (width + indent * 2)}╝'  # lower_border\n",
    "    print(box)\n"
   ]
  },
  {
   "cell_type": "markdown",
   "metadata": {},
   "source": [
    "# Create bow model"
   ]
  },
  {
   "cell_type": "code",
   "execution_count": 5,
   "metadata": {},
   "outputs": [],
   "source": [
    "def shuffle_data(data):\n",
    "    set_random_seeds(42)\n",
    "    data = data.sample(frac=1).reset_index(drop=True)\n",
    "    return data"
   ]
  },
  {
   "cell_type": "code",
   "execution_count": 6,
   "metadata": {},
   "outputs": [],
   "source": [
    "f_stopwords = open('stopwords.json')\n",
    "stopwords_list = json.load(f_stopwords)"
   ]
  },
  {
   "cell_type": "code",
   "execution_count": 7,
   "metadata": {},
   "outputs": [],
   "source": [
    "def create_bow_model(train_data, test_data, metric: str, remove_stop_words: bool):\n",
    "    #stop words removal\n",
    "    stop_words = None\n",
    "    if (remove_stop_words == True):\n",
    "        stop_words = stopwords_list\n",
    "\n",
    "    token_pattern = r\"(?u)\\b\\w\\w+\\b\"\n",
    "\n",
    "    #create model with given metric\n",
    "    bow = None\n",
    "    if (metric == 'count'):\n",
    "        bow = CountVectorizer(\n",
    "            max_features=NUMBER_OF_FEATURES, stop_words=stop_words, token_pattern=token_pattern)\n",
    "    elif (metric == 'tfidf'):\n",
    "        bow = TfidfVectorizer(\n",
    "            max_features=NUMBER_OF_FEATURES, stop_words=stop_words, token_pattern=token_pattern)\n",
    "    elif (metric == 'binary'):\n",
    "        bow = CountVectorizer(max_features=NUMBER_OF_FEATURES, stop_words=stop_words,\n",
    "                              binary=True, token_pattern=token_pattern)\n",
    "    else:\n",
    "        raise ValueError(\"metric must be either %s or %s or %s!\" %\n",
    "                         ('<count>', '<tfidf>', '<binary>'))\n",
    "\n",
    "    #create data partititions\n",
    "    X_train = bow.fit_transform(train_data['content'])\n",
    "    y_train = train_data['polarity']\n",
    "    X_test = bow.transform(test_data['content'])\n",
    "    y_test = test_data['polarity']\n",
    "\n",
    "    return (X_train, y_train, X_test, y_test)"
   ]
  },
  {
   "cell_type": "markdown",
   "metadata": {},
   "source": [
    "# Train models"
   ]
  },
  {
   "cell_type": "markdown",
   "metadata": {},
   "source": [
    "## Logistic Regression"
   ]
  },
  {
   "cell_type": "code",
   "execution_count": 8,
   "metadata": {},
   "outputs": [],
   "source": [
    "def unison_shuffled_copies(a, b):\n",
    "    assert a.shape[0] == len(b)\n",
    "    shuffler = np.random.permutation(a.shape[0])\n",
    "    return a[shuffler], b[shuffler]\n"
   ]
  },
  {
   "cell_type": "code",
   "execution_count": 9,
   "metadata": {},
   "outputs": [],
   "source": [
    "def build_lr_model_baseline():\n",
    "    model = tf.keras.models.Sequential()\n",
    "    model.add(tf.keras.layers.Dense(\n",
    "        1, activation='sigmoid', input_dim=NUMBER_OF_FEATURES))\n",
    "    loss = tf.keras.losses.BinaryCrossentropy(\n",
    "        reduction=tf.losses.Reduction.NONE)\n",
    "    model.compile(\n",
    "        optimizer=tf.keras.optimizers.SGD(learning_rate=LEARNING_RATE),\n",
    "        loss=loss,\n",
    "        metrics=['accuracy'])\n",
    "    return model"
   ]
  },
  {
   "cell_type": "code",
   "execution_count": 10,
   "metadata": {},
   "outputs": [],
   "source": [
    "def plot_training_loss(history):\n",
    "    #take average loss of each epoch\n",
    "    history.history['loss'] = [(lambda x: np.mean(x))(x)\n",
    "                               for x in history.history['loss']]\n",
    "    history.history['val_loss'] = [(lambda x: np.mean(x))(x)\n",
    "                                   for x in history.history['val_loss']]\n",
    "\n",
    "    # summarize history for loss\n",
    "    plt.plot(range(1, len(history.history['loss'])+1),\n",
    "             history.history['loss'], label=\"train\")\n",
    "    plt.plot(range(1, len(history.history['val_loss'])+1),\n",
    "             history.history['val_loss'], label=\"test\")\n",
    "    plt.title('model loss')\n",
    "    plt.legend()\n",
    "    plt.ylabel('loss')\n",
    "    plt.xlabel('epoch')\n",
    "    plt.show()\n"
   ]
  },
  {
   "cell_type": "code",
   "execution_count": 11,
   "metadata": {},
   "outputs": [],
   "source": [
    "def plot_training_acc(history):\n",
    "    #take average loss of each epoch\n",
    "    history.history['accuracy'] = [(lambda x: np.mean(x))(x)\n",
    "                                   for x in history.history['accuracy']]\n",
    "    history.history['val_accuracy'] = [(lambda x: np.mean(x))(x)\n",
    "                                       for x in history.history['val_accuracy']]\n",
    "\n",
    "    # summarize history for acc\n",
    "    plt.plot(range(1, len(history.history['accuracy'])+1),\n",
    "             history.history['accuracy'], label=\"train\")\n",
    "    plt.plot(range(1, len(history.history['val_accuracy'])+1),\n",
    "             history.history['val_accuracy'], label=\"test\")\n",
    "    plt.title('model accuracy')\n",
    "    plt.legend()\n",
    "    plt.ylabel('accuracy')\n",
    "    plt.xlabel('epoch')\n",
    "    plt.show()\n"
   ]
  },
  {
   "cell_type": "code",
   "execution_count": 12,
   "metadata": {},
   "outputs": [],
   "source": [
    "def evaluate_model(model, test_X, test_y):\n",
    "    yhat = model.predict(test_X)\n",
    "\n",
    "    yhat[yhat < 0.5] = 0\n",
    "    yhat[yhat >= 0.5] = 1\n",
    "\n",
    "    acc = accuracy_score(test_y, yhat)\n",
    "    print(classification_report(test_y, yhat))\n",
    "    print('Accuracy: ' + str(acc))\n",
    "    \n",
    "    return acc"
   ]
  },
  {
   "cell_type": "code",
   "execution_count": 13,
   "metadata": {},
   "outputs": [],
   "source": [
    "def save_history_to_file(history, file):\n",
    "    hist_df = pd.DataFrame(history.history)\n",
    "    hist_df.to_csv(file)"
   ]
  },
  {
   "cell_type": "code",
   "execution_count": 14,
   "metadata": {},
   "outputs": [],
   "source": [
    "def generate_batches_shuffled(X_train_bow, y_train_bow):\n",
    "    set_random_seeds(42)\n",
    "    while True:\n",
    "        #shuffle before each epoch\n",
    "        X_train_bow, y_train_bow = unison_shuffled_copies(\n",
    "            X_train_bow, y_train_bow)\n",
    "        for j in range(0, X_train_bow.shape[0], BATCH_SIZE):\n",
    "            x_batch = X_train_bow[j: j+BATCH_SIZE, :].todense()\n",
    "            y_batch = y_train_bow[j: j+BATCH_SIZE]\n",
    "            yield (x_batch, y_batch)\n",
    "\n",
    "        gc.collect()"
   ]
  },
  {
   "cell_type": "code",
   "execution_count": 15,
   "metadata": {},
   "outputs": [],
   "source": [
    "def train(model, X_train, y_train, X_val, y_val, preprocessing_row, metric):\n",
    "    set_random_seeds(42)\n",
    "\n",
    "    print(\"\\n\")\n",
    "    print_msg_box('Logistic Regression:', indent=10)\n",
    "    \n",
    "    #callbacks\n",
    "    reduce_lr = tf.keras.callbacks.ReduceLROnPlateau(monitor='val_loss', factor=0.1,\n",
    "                                                     patience=3, min_lr=1e-6, verbose=1, min_delta=1e-5)\n",
    "\n",
    "    checkpoint = tf.keras.callbacks.ModelCheckpoint(filepath='models/best_model_1e-2.hdf5',\n",
    "                                                    monitor='val_loss',\n",
    "                                                    verbose=1,\n",
    "                                                    save_best_only=True,\n",
    "                                                    mode='min')\n",
    "\n",
    "    es = tf.keras.callbacks.EarlyStopping(monitor=\"val_loss\",\n",
    "                                          patience=7,\n",
    "                                          verbose=1,\n",
    "                                          mode=\"min\",\n",
    "                                          min_delta=1e-5)\n",
    "\n",
    "    #train\n",
    "    history = model.fit_generator(generate_batches_shuffled(X_train, y_train), steps_per_epoch=math.ceil(len(y_train) / BATCH_SIZE), epochs=MAX_EPOCHS,\n",
    "                                  use_multiprocessing=False, shuffle=True, validation_data=(X_val.todense(), y_val), callbacks=[reduce_lr, checkpoint, es])\n",
    "    print(model.summary())\n",
    "    return history"
   ]
  },
  {
   "cell_type": "code",
   "execution_count": 16,
   "metadata": {},
   "outputs": [],
   "source": [
    "def train_LR(X_train, y_train, X_test, y_test, X_val, y_val, metric, preprocessing_row):\n",
    "\n",
    "    lr_model = build_lr_model_baseline()\n",
    "    history = train(lr_model, X_train=X_train, y_train=y_train, X_val=X_val, y_val=y_val, preprocessing_row=preprocessing_row, metric=metric)\n",
    "    \n",
    "    save_history_to_file(history, \"models/histories/history_1e-2.csv\")\n",
    "    \n",
    "    #plots\n",
    "    plot_training_loss(history)\n",
    "    plot_training_acc(history)\n",
    "\n",
    "    #Load and evaluate the best LR model version discovered during training\n",
    "    best_model = tf.keras.models.load_model(\"models/best_model_1e-2.hdf5\")\n",
    "    return evaluate_model(best_model, X_test.todense(), y_test)"
   ]
  },
  {
   "cell_type": "markdown",
   "metadata": {},
   "source": [
    "# Main function"
   ]
  },
  {
   "cell_type": "code",
   "execution_count": 17,
   "metadata": {},
   "outputs": [],
   "source": [
    "def sentiment_analysis(remove_stop_words: bool, metric: str, preprocessing_row: int):\n",
    "\n",
    "    msg = \"Metric: %s\\n\" \\\n",
    "            \"Preprocessing row: %d\\n\" \\\n",
    "            \"Removing stop words: %s\" % (metric, preprocessing_row, remove_stop_words)\n",
    "\n",
    "    print_msg_box(msg=msg, indent=30, title='Sentiment Analysis:')\n",
    "\n",
    "    #load train data\n",
    "    print(\"\\nLoad train data from %strain_row_%d.csv\" %\n",
    "          (FILES_DIRECTORY, preprocessing_row))\n",
    "    train_data = pd.read_csv(\"%strain_row_%d.csv\" % (FILES_DIRECTORY, preprocessing_row))\n",
    "    train_data['content'] = train_data['content'].values.astype('str')\n",
    "    \n",
    "    #shuffle train data\n",
    "    train_data = shuffle_data(train_data)\n",
    "\n",
    "    #load test data\n",
    "    print(\"Load test data from %stest_row_%d.csv\\n\" % (FILES_DIRECTORY, preprocessing_row))\n",
    "    test_data = pd.read_csv(\"%stest_row_%d.csv\" % (FILES_DIRECTORY, preprocessing_row))\n",
    "    \n",
    "    #create bow model\n",
    "    X_train, y_train, X_test, y_test = create_bow_model(\n",
    "        train_data=train_data, test_data=test_data, metric=metric, remove_stop_words=remove_stop_words)\n",
    "\n",
    "    #reshape label vectors\n",
    "    y_train[y_train == 4] = 1\n",
    "    y_train = y_train.values.reshape(-1, 1)\n",
    "    y_test[y_test == 4] = 1\n",
    "    y_test = y_test.values.reshape(-1, 1)\n",
    "\n",
    "    #split into train and validation data\n",
    "    X_train, X_val, y_train, y_val = train_test_split(\n",
    "        X_train, y_train, test_size=0.1, random_state=42)\n",
    "\n",
    "    #leave out 6 samples because length has to be divisible by BATCH_SIZE (limitation by tensorflow privacy)\n",
    "    leave_out_samples_X = X_train[-6:]\n",
    "    leave_out_samples_y = y_train[-6:]\n",
    "    X_train = X_train[:-6]\n",
    "    y_train = y_train[:-6]\n",
    "    \n",
    "    #train LR\n",
    "    acc_lr = train_LR(X_train=X_train, y_train=y_train, X_test=X_test, y_test=y_test, X_val=X_val, y_val=y_val, metric= metric, preprocessing_row=preprocessing_row)\n",
    "    "
   ]
  },
  {
   "cell_type": "markdown",
   "metadata": {
    "tags": []
   },
   "source": [
    "# Execution"
   ]
  },
  {
   "cell_type": "code",
   "execution_count": 18,
   "metadata": {},
   "outputs": [
    {
     "name": "stdout",
     "output_type": "stream",
     "text": [
      "╔══════════════════════════════════════════════════════════════════════════════════════╗\n",
      "║                              Sentiment Analysis:                                     ║\n",
      "║                              -------------------                                     ║\n",
      "║                              Metric: count                                           ║\n",
      "║                              Preprocessing row: 2                                    ║\n",
      "║                              Removing stop words: False                              ║\n",
      "╚══════════════════════════════════════════════════════════════════════════════════════╝\n",
      "\n",
      "Load train data from data/csv_rows/train_row_2.csv\n",
      "Load test data from data/csv_rows/test_row_2.csv\n",
      "\n",
      "\n",
      "\n",
      "╔════════════════════════════════════════╗\n",
      "║          Logistic Regression:          ║\n",
      "╚════════════════════════════════════════╝\n",
      "Epoch 1/100\n",
      "88854/88854 [==============================] - ETA: 0s - loss: 0.4867 - accuracy: 0.7775\n",
      "Epoch 1: val_loss improved from inf to 0.47386, saving model to models\\best_model_1e-2.hdf5\n",
      "88854/88854 [==============================] - 98s 1ms/step - loss: 0.4867 - accuracy: 0.7775 - val_loss: 0.4739 - val_accuracy: 0.7852 - lr: 0.0100\n",
      "Epoch 2/100\n",
      "88854/88854 [==============================] - ETA: 0s - loss: 0.4704 - accuracy: 0.7881\n",
      "Epoch 2: val_loss improved from 0.47386 to 0.47090, saving model to models\\best_model_1e-2.hdf5\n",
      "88854/88854 [==============================] - 89s 998us/step - loss: 0.4704 - accuracy: 0.7881 - val_loss: 0.4709 - val_accuracy: 0.7881 - lr: 0.0100\n",
      "Epoch 3/100\n",
      "88854/88854 [==============================] - ETA: 0s - loss: 0.4681 - accuracy: 0.7896\n",
      "Epoch 3: val_loss improved from 0.47090 to 0.47080, saving model to models\\best_model_1e-2.hdf5\n",
      "88854/88854 [==============================] - 87s 979us/step - loss: 0.4681 - accuracy: 0.7896 - val_loss: 0.4708 - val_accuracy: 0.7860 - lr: 0.0100\n",
      "Epoch 4/100\n",
      "88854/88854 [==============================] - ETA: 0s - loss: 0.4673 - accuracy: 0.7899\n",
      "Epoch 4: val_loss did not improve from 0.47080\n",
      "88854/88854 [==============================] - 86s 969us/step - loss: 0.4673 - accuracy: 0.7899 - val_loss: 0.4711 - val_accuracy: 0.7864 - lr: 0.0100\n",
      "Epoch 5/100\n",
      "88854/88854 [==============================] - ETA: 0s - loss: 0.4669 - accuracy: 0.7905\n",
      "Epoch 5: val_loss improved from 0.47080 to 0.47062, saving model to models\\best_model_1e-2.hdf5\n",
      "88854/88854 [==============================] - 87s 976us/step - loss: 0.4669 - accuracy: 0.7905 - val_loss: 0.4706 - val_accuracy: 0.7871 - lr: 0.0100\n",
      "Epoch 6/100\n",
      "88854/88854 [==============================] - ETA: 0s - loss: 0.4666 - accuracy: 0.7903\n",
      "Epoch 6: val_loss did not improve from 0.47062\n",
      "88854/88854 [==============================] - 87s 981us/step - loss: 0.4666 - accuracy: 0.7903 - val_loss: 0.4709 - val_accuracy: 0.7886 - lr: 0.0100\n",
      "Epoch 7/100\n",
      "88854/88854 [==============================] - ETA: 0s - loss: 0.4666 - accuracy: 0.7905\n",
      "Epoch 7: val_loss improved from 0.47062 to 0.47004, saving model to models\\best_model_1e-2.hdf5\n",
      "88854/88854 [==============================] - 86s 965us/step - loss: 0.4666 - accuracy: 0.7905 - val_loss: 0.4700 - val_accuracy: 0.7882 - lr: 0.0100\n",
      "Epoch 8/100\n",
      "88854/88854 [==============================] - ETA: 0s - loss: 0.4665 - accuracy: 0.7903\n",
      "Epoch 8: val_loss improved from 0.47004 to 0.47003, saving model to models\\best_model_1e-2.hdf5\n",
      "88854/88854 [==============================] - 86s 972us/step - loss: 0.4665 - accuracy: 0.7903 - val_loss: 0.4700 - val_accuracy: 0.7877 - lr: 0.0100\n",
      "Epoch 9/100\n",
      "88854/88854 [==============================] - ETA: 0s - loss: 0.4665 - accuracy: 0.7903\n",
      "Epoch 9: val_loss did not improve from 0.47003\n",
      "88854/88854 [==============================] - 87s 976us/step - loss: 0.4665 - accuracy: 0.7903 - val_loss: 0.4705 - val_accuracy: 0.7875 - lr: 0.0100\n",
      "Epoch 10/100\n",
      "88854/88854 [==============================] - ETA: 0s - loss: 0.4664 - accuracy: 0.7904\n",
      "Epoch 10: val_loss improved from 0.47003 to 0.46914, saving model to models\\best_model_1e-2.hdf5\n",
      "88854/88854 [==============================] - 87s 982us/step - loss: 0.4664 - accuracy: 0.7904 - val_loss: 0.4691 - val_accuracy: 0.7879 - lr: 0.0100\n",
      "Epoch 11/100\n",
      "88854/88854 [==============================] - ETA: 0s - loss: 0.4664 - accuracy: 0.7904\n",
      "Epoch 11: val_loss did not improve from 0.46914\n",
      "88854/88854 [==============================] - 96s 1ms/step - loss: 0.4664 - accuracy: 0.7904 - val_loss: 0.4702 - val_accuracy: 0.7875 - lr: 0.0100\n",
      "Epoch 12/100\n",
      "88854/88854 [==============================] - ETA: 0s - loss: 0.4665 - accuracy: 0.7902\n",
      "Epoch 12: val_loss did not improve from 0.46914\n",
      "88854/88854 [==============================] - 94s 1ms/step - loss: 0.4665 - accuracy: 0.7902 - val_loss: 0.4707 - val_accuracy: 0.7897 - lr: 0.0100\n",
      "Epoch 13/100\n",
      "88854/88854 [==============================] - ETA: 0s - loss: 0.4664 - accuracy: 0.7906\n",
      "Epoch 13: ReduceLROnPlateau reducing learning rate to 0.0009999999776482583.\n",
      "\n",
      "Epoch 13: val_loss did not improve from 0.46914\n",
      "88854/88854 [==============================] - 94s 1ms/step - loss: 0.4664 - accuracy: 0.7906 - val_loss: 0.4700 - val_accuracy: 0.7869 - lr: 0.0100\n",
      "Epoch 14/100\n",
      "88854/88854 [==============================] - ETA: 0s - loss: 0.4617 - accuracy: 0.7935\n",
      "Epoch 14: val_loss improved from 0.46914 to 0.46738, saving model to models\\best_model_1e-2.hdf5\n",
      "88854/88854 [==============================] - 94s 1ms/step - loss: 0.4617 - accuracy: 0.7935 - val_loss: 0.4674 - val_accuracy: 0.7915 - lr: 1.0000e-03\n",
      "Epoch 15/100\n",
      "88854/88854 [==============================] - ETA: 0s - loss: 0.4613 - accuracy: 0.7936\n",
      "Epoch 15: val_loss improved from 0.46738 to 0.46672, saving model to models\\best_model_1e-2.hdf5\n",
      "88854/88854 [==============================] - 95s 1ms/step - loss: 0.4613 - accuracy: 0.7936 - val_loss: 0.4667 - val_accuracy: 0.7904 - lr: 1.0000e-03\n",
      "Epoch 16/100\n",
      "88854/88854 [==============================] - ETA: 0s - loss: 0.4612 - accuracy: 0.7938\n",
      "Epoch 16: val_loss improved from 0.46672 to 0.46669, saving model to models\\best_model_1e-2.hdf5\n",
      "88854/88854 [==============================] - 96s 1ms/step - loss: 0.4612 - accuracy: 0.7938 - val_loss: 0.4667 - val_accuracy: 0.7901 - lr: 1.0000e-03\n",
      "Epoch 17/100\n",
      "88854/88854 [==============================] - ETA: 0s - loss: 0.4612 - accuracy: 0.7937\n",
      "Epoch 17: val_loss improved from 0.46669 to 0.46650, saving model to models\\best_model_1e-2.hdf5\n",
      "88854/88854 [==============================] - 95s 1ms/step - loss: 0.4612 - accuracy: 0.7937 - val_loss: 0.4665 - val_accuracy: 0.7900 - lr: 1.0000e-03\n",
      "Epoch 18/100\n",
      "88854/88854 [==============================] - ETA: 0s - loss: 0.4612 - accuracy: 0.7938\n",
      "Epoch 18: val_loss did not improve from 0.46650\n",
      "88854/88854 [==============================] - 89s 997us/step - loss: 0.4612 - accuracy: 0.7938 - val_loss: 0.4666 - val_accuracy: 0.7900 - lr: 1.0000e-03\n",
      "Epoch 19/100\n",
      "88854/88854 [==============================] - ETA: 0s - loss: 0.4612 - accuracy: 0.7939\n",
      "Epoch 19: val_loss did not improve from 0.46650\n",
      "88854/88854 [==============================] - 95s 1ms/step - loss: 0.4612 - accuracy: 0.7939 - val_loss: 0.4667 - val_accuracy: 0.7892 - lr: 1.0000e-03\n",
      "Epoch 20/100\n",
      "88854/88854 [==============================] - ETA: 0s - loss: 0.4612 - accuracy: 0.7938\n",
      "Epoch 20: ReduceLROnPlateau reducing learning rate to 9.999999310821295e-05.\n",
      "\n",
      "Epoch 20: val_loss did not improve from 0.46650\n",
      "88854/88854 [==============================] - 95s 1ms/step - loss: 0.4612 - accuracy: 0.7938 - val_loss: 0.4668 - val_accuracy: 0.7888 - lr: 1.0000e-03\n",
      "Epoch 21/100\n",
      "88854/88854 [==============================] - ETA: 0s - loss: 0.4607 - accuracy: 0.7940\n",
      "Epoch 21: val_loss improved from 0.46650 to 0.46635, saving model to models\\best_model_1e-2.hdf5\n",
      "88854/88854 [==============================] - 96s 1ms/step - loss: 0.4607 - accuracy: 0.7940 - val_loss: 0.4663 - val_accuracy: 0.7904 - lr: 1.0000e-04\n",
      "Epoch 22/100\n",
      "88854/88854 [==============================] - ETA: 0s - loss: 0.4606 - accuracy: 0.7942\n",
      "Epoch 22: val_loss did not improve from 0.46635\n",
      "88854/88854 [==============================] - 96s 1ms/step - loss: 0.4606 - accuracy: 0.7942 - val_loss: 0.4664 - val_accuracy: 0.7905 - lr: 1.0000e-04\n",
      "Epoch 23/100\n",
      "88854/88854 [==============================] - ETA: 0s - loss: 0.4606 - accuracy: 0.7943\n",
      "Epoch 23: val_loss did not improve from 0.46635\n",
      "88854/88854 [==============================] - 96s 1ms/step - loss: 0.4606 - accuracy: 0.7943 - val_loss: 0.4664 - val_accuracy: 0.7905 - lr: 1.0000e-04\n",
      "Epoch 24/100\n",
      "88854/88854 [==============================] - ETA: 0s - loss: 0.4606 - accuracy: 0.7942\n",
      "Epoch 24: ReduceLROnPlateau reducing learning rate to 9.999999019782991e-06.\n",
      "\n",
      "Epoch 24: val_loss did not improve from 0.46635\n",
      "88854/88854 [==============================] - 96s 1ms/step - loss: 0.4606 - accuracy: 0.7942 - val_loss: 0.4664 - val_accuracy: 0.7903 - lr: 1.0000e-04\n",
      "Epoch 25/100\n",
      "88854/88854 [==============================] - ETA: 0s - loss: 0.4605 - accuracy: 0.7943\n",
      "Epoch 25: val_loss improved from 0.46635 to 0.46635, saving model to models\\best_model_1e-2.hdf5\n",
      "88854/88854 [==============================] - 100s 1ms/step - loss: 0.4605 - accuracy: 0.7943 - val_loss: 0.4663 - val_accuracy: 0.7904 - lr: 1.0000e-05\n",
      "Epoch 26/100\n",
      "88854/88854 [==============================] - ETA: 0s - loss: 0.4605 - accuracy: 0.7943\n",
      "Epoch 26: val_loss improved from 0.46635 to 0.46634, saving model to models\\best_model_1e-2.hdf5\n",
      "88854/88854 [==============================] - 97s 1ms/step - loss: 0.4605 - accuracy: 0.7943 - val_loss: 0.4663 - val_accuracy: 0.7904 - lr: 1.0000e-05\n",
      "Epoch 27/100\n",
      "88854/88854 [==============================] - ETA: 0s - loss: 0.4605 - accuracy: 0.7943\n",
      "Epoch 27: ReduceLROnPlateau reducing learning rate to 1e-06.\n",
      "\n",
      "Epoch 27: val_loss improved from 0.46634 to 0.46634, saving model to models\\best_model_1e-2.hdf5\n",
      "88854/88854 [==============================] - 97s 1ms/step - loss: 0.4605 - accuracy: 0.7943 - val_loss: 0.4663 - val_accuracy: 0.7904 - lr: 1.0000e-05\n",
      "Epoch 28/100\n",
      "88854/88854 [==============================] - ETA: 0s - loss: 0.4605 - accuracy: 0.7944\n",
      "Epoch 28: val_loss improved from 0.46634 to 0.46634, saving model to models\\best_model_1e-2.hdf5\n",
      "88854/88854 [==============================] - 91s 1ms/step - loss: 0.4605 - accuracy: 0.7944 - val_loss: 0.4663 - val_accuracy: 0.7904 - lr: 1.0000e-06\n",
      "Epoch 28: early stopping\n",
      "Model: \"sequential\"\n",
      "_________________________________________________________________\n",
      " Layer (type)                Output Shape              Param #   \n",
      "=================================================================\n",
      " dense (Dense)               (None, 1)                 5001      \n",
      "                                                                 \n",
      "=================================================================\n",
      "Total params: 5,001\n",
      "Trainable params: 5,001\n",
      "Non-trainable params: 0\n",
      "_________________________________________________________________\n",
      "None\n"
     ]
    },
    {
     "data": {
      "image/png": "[encoded data removed]",
      "text/plain": [
       "<Figure size 640x480 with 1 Axes>"
      ]
     },
     "metadata": {},
     "output_type": "display_data"
    },
    {
     "data": {
      "image/png": "[encoded data removed]",
      "text/plain": [
       "<Figure size 640x480 with 1 Axes>"
      ]
     },
     "metadata": {},
     "output_type": "display_data"
    },
    {
     "name": "stdout",
     "output_type": "stream",
     "text": [
      "12/12 [==============================] - 0s 1ms/step\n",
      "              precision    recall  f1-score   support\n",
      "\n",
      "           0       0.84      0.76      0.80       177\n",
      "           1       0.78      0.86      0.82       182\n",
      "\n",
      "    accuracy                           0.81       359\n",
      "   macro avg       0.81      0.81      0.81       359\n",
      "weighted avg       0.81      0.81      0.81       359\n",
      "\n",
      "Accuracy: 0.807799442896936\n"
     ]
    }
   ],
   "source": [
    "sentiment_analysis(remove_stop_words=False, metric = \"count\", preprocessing_row = 2)"
   ]
  }
 ],
 "metadata": {
  "kernelspec": {
   "display_name": "Python 3.9.5 64-bit",
   "language": "python",
   "name": "python3"
  },
  "language_info": {
   "codemirror_mode": {
    "name": "ipython",
    "version": 3
   },
   "file_extension": ".py",
   "mimetype": "text/x-python",
   "name": "python",
   "nbconvert_exporter": "python",
   "pygments_lexer": "ipython3",
   "version": "3.9.5"
  },
  "vscode": {
   "interpreter": {
    "hash": "542bad02869b321a73a7da5260ee6f5456fa9b86f73b69a004054f84e7b0338b"
   }
  }
 },
 "nbformat": 4,
 "nbformat_minor": 4
}
