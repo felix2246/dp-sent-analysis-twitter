{
 "cells": [
  {
   "cell_type": "code",
   "execution_count": 1,
   "metadata": {},
   "outputs": [],
   "source": [
    "import pandas as pd\n",
    "import numpy as np\n",
    "import random\n",
    "import json\n",
    "import math\n",
    "from sklearn.feature_extraction.text import TfidfVectorizer, CountVectorizer\n",
    "from scipy.sparse import csr_matrix\n",
    "from sklearn.metrics import classification_report, accuracy_score, plot_confusion_matrix\n",
    "from sklearn.model_selection import train_test_split\n",
    "import matplotlib.pyplot as plt\n",
    "from sklearn.linear_model import LogisticRegression\n",
    "import tensorflow as tf\n",
    "import keras\n",
    "import tensorflow_privacy.privacy.optimizers as optimizers\n",
    "from tensorflow_privacy.privacy.analysis.compute_dp_sgd_privacy_lib import compute_dp_sgd_privacy\n",
    "import gc\n",
    "from tensorflow.keras import backend as k\n",
    "\n",
    "import warnings\n",
    "warnings.filterwarnings('ignore')\n",
    "#tf.compat.v1.disable_v2_behavior()\n"
   ]
  },
  {
   "cell_type": "code",
   "execution_count": 2,
   "metadata": {},
   "outputs": [],
   "source": [
    "def set_random_seeds(seed):\n",
    "    np.random.seed(seed)\n",
    "    random.seed(seed)"
   ]
  },
  {
   "cell_type": "code",
   "execution_count": 3,
   "metadata": {},
   "outputs": [],
   "source": [
    "FILES_DIRECTORY = 'data/csv_rows/'\n",
    "EPOCHS = 58\n",
    "LEARNING_RATE = 1e-3\n",
    "N = 1421664\n",
    "NUMBER_OF_FEATURES = 5000\n",
    "BATCH_SIZE = 16\n",
    "DELTA = 1e-7\n",
    "NOISE_MULTIPLIER = 0.38559\n"
   ]
  },
  {
   "cell_type": "code",
   "execution_count": 4,
   "metadata": {},
   "outputs": [],
   "source": [
    "def print_msg_box(msg, indent=1, width=None, title=None):\n",
    "    \"\"\"Print message-box with optional title.\"\"\"\n",
    "    lines = msg.split('\\n')\n",
    "    space = \" \" * indent\n",
    "    if not width:\n",
    "        width = max(map(len, lines))\n",
    "    box = f'╔{\"═\" * (width + indent * 2)}╗\\n'  # upper_border\n",
    "    if title:\n",
    "        box += f'║{space}{title:<{width}}{space}║\\n'  # title\n",
    "        box += f'║{space}{\"-\" * len(title):<{width}}{space}║\\n'  # underscore\n",
    "    box += ''.join([f'║{space}{line:<{width}}{space}║\\n' for line in lines])\n",
    "    box += f'╚{\"═\" * (width + indent * 2)}╝'  # lower_border\n",
    "    print(box)\n"
   ]
  },
  {
   "cell_type": "markdown",
   "metadata": {},
   "source": [
    "# Create bow model"
   ]
  },
  {
   "cell_type": "code",
   "execution_count": 5,
   "metadata": {},
   "outputs": [],
   "source": [
    "def shuffle_data(data):\n",
    "    set_random_seeds(42)\n",
    "    data = data.sample(frac=1).reset_index(drop=True)\n",
    "    return data"
   ]
  },
  {
   "cell_type": "code",
   "execution_count": 6,
   "metadata": {},
   "outputs": [],
   "source": [
    "f_stopwords = open('stopwords.json')\n",
    "stopwords_list = json.load(f_stopwords)"
   ]
  },
  {
   "cell_type": "code",
   "execution_count": 7,
   "metadata": {},
   "outputs": [],
   "source": [
    "def create_bow_model(train_data, test_data, metric: str, remove_stop_words: bool):\n",
    "    #stop words removal\n",
    "    stop_words = None\n",
    "    if (remove_stop_words == True):\n",
    "        stop_words = stopwords_list\n",
    "\n",
    "    token_pattern = r\"(?u)\\b\\w\\w+\\b\"\n",
    "\n",
    "    #create model with given metric\n",
    "    bow = None\n",
    "    if (metric == 'count'):\n",
    "        bow = CountVectorizer(\n",
    "            max_features=NUMBER_OF_FEATURES, stop_words=stop_words, token_pattern=token_pattern)\n",
    "    elif (metric == 'tfidf'):\n",
    "        bow = TfidfVectorizer(\n",
    "            max_features=NUMBER_OF_FEATURES, stop_words=stop_words, token_pattern=token_pattern)\n",
    "    elif (metric == 'binary'):\n",
    "        bow = CountVectorizer(max_features=NUMBER_OF_FEATURES, stop_words=stop_words,\n",
    "                              binary=True, token_pattern=token_pattern)\n",
    "    else:\n",
    "        raise ValueError(\"metric must be either %s or %s or %s!\" %\n",
    "                         ('<count>', '<tfidf>', '<binary>'))\n",
    "\n",
    "    #create data partititions\n",
    "    X_train = bow.fit_transform(train_data['content'])\n",
    "    y_train = train_data['polarity']\n",
    "    X_test = bow.transform(test_data['content'])\n",
    "    y_test = test_data['polarity']\n",
    "\n",
    "    return (X_train, y_train, X_test, y_test)"
   ]
  },
  {
   "cell_type": "markdown",
   "metadata": {},
   "source": [
    "# Calculate privacy budget"
   ]
  },
  {
   "cell_type": "code",
   "execution_count": 8,
   "metadata": {},
   "outputs": [
    {
     "name": "stdout",
     "output_type": "stream",
     "text": [
      "DP-SGD with sampling rate = 0.00113% and noise_multiplier = 0.38559 iterated over 5153532 steps satisfies differential privacy with eps = 10 and delta = 1e-07.\n",
      "The optimal RDP order is 3.0.\n"
     ]
    },
    {
     "data": {
      "text/plain": [
       "(10.048064406317497, 3.0)"
      ]
     },
     "execution_count": 8,
     "metadata": {},
     "output_type": "execute_result"
    }
   ],
   "source": [
    "compute_dp_sgd_privacy(N, BATCH_SIZE, NOISE_MULTIPLIER,\n",
    "                       EPOCHS, DELTA)"
   ]
  },
  {
   "cell_type": "markdown",
   "metadata": {},
   "source": [
    "# Train models"
   ]
  },
  {
   "cell_type": "markdown",
   "metadata": {},
   "source": [
    "## Logistic Regression"
   ]
  },
  {
   "cell_type": "code",
   "execution_count": 9,
   "metadata": {},
   "outputs": [],
   "source": [
    "def unison_shuffled_copies(a, b):\n",
    "    assert a.shape[0] == len(b)\n",
    "    shuffler = np.random.permutation(a.shape[0])\n",
    "    return a[shuffler], b[shuffler]\n"
   ]
  },
  {
   "cell_type": "code",
   "execution_count": 10,
   "metadata": {},
   "outputs": [],
   "source": [
    "def build_lr_model_baseline():\n",
    "    model = tf.keras.models.Sequential()\n",
    "    model.add(tf.keras.layers.Dense(\n",
    "        1, activation='sigmoid', input_dim=NUMBER_OF_FEATURES))\n",
    "    loss = tf.keras.losses.BinaryCrossentropy(reduction=tf.losses.Reduction.NONE)\n",
    "    model.compile(\n",
    "        optimizer=tf.keras.optimizers.SGD(learning_rate=LEARNING_RATE),\n",
    "        loss=loss,\n",
    "        metrics=['accuracy'])\n",
    "    return model"
   ]
  },
  {
   "cell_type": "code",
   "execution_count": 11,
   "metadata": {},
   "outputs": [],
   "source": [
    "def build_lr_model_DP():\n",
    "    model = tf.keras.models.Sequential()\n",
    "    model.add(tf.keras.layers.Dense(1, activation='sigmoid',\n",
    "                    input_dim=NUMBER_OF_FEATURES))\n",
    "    loss = tf.keras.losses.BinaryCrossentropy(\n",
    "        reduction=tf.losses.Reduction.NONE)\n",
    "    model.compile(\n",
    "        optimizer=optimizers.dp_optimizer_keras.DPKerasSGDOptimizer(\n",
    "            l2_norm_clip=1,\n",
    "            noise_multiplier=NOISE_MULTIPLIER,\n",
    "            num_microbatches=BATCH_SIZE,\n",
    "            learning_rate=LEARNING_RATE),\n",
    "        loss=loss,\n",
    "        metrics=['accuracy'])\n",
    "    return model\n"
   ]
  },
  {
   "cell_type": "code",
   "execution_count": 12,
   "metadata": {},
   "outputs": [],
   "source": [
    "def plot_training_loss(history):\n",
    "    #take average loss of each epoch\n",
    "    history.history['loss'] = [(lambda x: np.mean(x))(x)\n",
    "                               for x in history.history['loss']]\n",
    "    history.history['val_loss'] = [(lambda x: np.mean(x))(x)\n",
    "                                   for x in history.history['val_loss']]\n",
    "\n",
    "    # summarize history for loss\n",
    "    plt.plot(range(1, len(history.history['loss'])+1),\n",
    "             history.history['loss'], label=\"train\")\n",
    "    plt.plot(range(1, len(history.history['val_loss'])+1),\n",
    "             history.history['val_loss'], label=\"test\")\n",
    "    plt.title('model loss')\n",
    "    plt.legend()\n",
    "    plt.ylabel('loss')\n",
    "    plt.xlabel('epoch')\n",
    "    plt.show()\n"
   ]
  },
  {
   "cell_type": "code",
   "execution_count": 13,
   "metadata": {},
   "outputs": [],
   "source": [
    "def plot_training_acc(history):\n",
    "    #take average loss of each epoch\n",
    "    history.history['accuracy'] = [(lambda x: np.mean(x))(x)\n",
    "                                   for x in history.history['accuracy']]\n",
    "    history.history['val_accuracy'] = [(lambda x: np.mean(x))(x)\n",
    "                                       for x in history.history['val_accuracy']]\n",
    "\n",
    "    # summarize history for acc\n",
    "    plt.plot(range(1, len(history.history['accuracy'])+1),\n",
    "             history.history['accuracy'], label=\"train\")\n",
    "    plt.plot(range(1, len(history.history['val_accuracy'])+1),\n",
    "             history.history['val_accuracy'], label=\"test\")\n",
    "    plt.title('model accuracy')\n",
    "    plt.legend()\n",
    "    plt.ylabel('accuracy')\n",
    "    plt.xlabel('epoch')\n",
    "    plt.show()\n"
   ]
  },
  {
   "cell_type": "code",
   "execution_count": 14,
   "metadata": {},
   "outputs": [],
   "source": [
    "def evaluate_model(model, test_X, test_y):\n",
    "    yhat = model.predict(test_X)\n",
    "\n",
    "    yhat[yhat < 0.5] = 0\n",
    "    yhat[yhat >= 0.5] = 1\n",
    "\n",
    "    acc = accuracy_score(test_y, yhat)\n",
    "    print(classification_report(test_y, yhat))\n",
    "    print('Accuracy: ' + str(acc))\n",
    "    \n",
    "    return acc"
   ]
  },
  {
   "cell_type": "code",
   "execution_count": 15,
   "metadata": {},
   "outputs": [],
   "source": [
    "def save_history_to_file(history, file):\n",
    "    hist_df = pd.DataFrame(history.history)\n",
    "    hist_df.to_csv(file)"
   ]
  },
  {
   "cell_type": "code",
   "execution_count": 16,
   "metadata": {},
   "outputs": [],
   "source": [
    "def generate_batches_shuffled(X_train_bow, y_train_bow):\n",
    "    set_random_seeds(42)\n",
    "    while True:\n",
    "        #shuffle before each epoch\n",
    "        X_train_bow, y_train_bow = unison_shuffled_copies(\n",
    "            X_train_bow, y_train_bow)\n",
    "        for j in range(0, X_train_bow.shape[0], BATCH_SIZE):\n",
    "            x_batch = X_train_bow[j: j+BATCH_SIZE, :].todense()\n",
    "            y_batch = y_train_bow[j: j+BATCH_SIZE]\n",
    "            yield (x_batch, y_batch)\n",
    "\n",
    "        gc.collect()"
   ]
  },
  {
   "cell_type": "code",
   "execution_count": 17,
   "metadata": {},
   "outputs": [],
   "source": [
    "def train(model, X_train, y_train, X_val, y_val, preprocessing_row, metric):\n",
    "    set_random_seeds(42)\n",
    "\n",
    "    print(\"\\n\")\n",
    "    print_msg_box('Logistic Regression:', indent=10)\n",
    "    \n",
    "    #callbacks\n",
    "    reduce_lr = tf.keras.callbacks.ReduceLROnPlateau(monitor='val_loss', factor=0.1,\n",
    "                                                     patience=3, min_lr=1e-6, verbose=1, min_delta=1e-5)\n",
    "    #train\n",
    "    history = model.fit_generator(generate_batches_shuffled(X_train, y_train), steps_per_epoch=math.ceil(len(y_train) / BATCH_SIZE), epochs=EPOCHS,\n",
    "                                  use_multiprocessing=False, shuffle=True, validation_data=(X_val.todense(), y_val), callbacks=[reduce_lr])\n",
    "    print(model.summary())\n",
    "    return history"
   ]
  },
  {
   "cell_type": "code",
   "execution_count": 18,
   "metadata": {},
   "outputs": [],
   "source": [
    "def train_LR(X_train, y_train, X_test, y_test, X_val, y_val, metric, preprocessing_row):\n",
    "\n",
    "    lr_model = build_lr_model_DP()\n",
    "    history = train(lr_model, X_train=X_train, y_train=y_train, X_val=X_val, y_val=y_val, preprocessing_row=preprocessing_row, metric=metric)\n",
    "    \n",
    "    save_history_to_file(\n",
    "        history, \"models/histories/history_dp-eps=10.csv\")\n",
    "    \n",
    "    #plots\n",
    "    plot_training_loss(history)\n",
    "    plot_training_acc(history)\n",
    "\n",
    "    return evaluate_model(lr_model, X_test.todense(), y_test)"
   ]
  },
  {
   "cell_type": "markdown",
   "metadata": {},
   "source": [
    "# Main function"
   ]
  },
  {
   "cell_type": "code",
   "execution_count": 19,
   "metadata": {},
   "outputs": [],
   "source": [
    "def sentiment_analysis(remove_stop_words: bool, metric: str, preprocessing_row: int):\n",
    "\n",
    "    msg = \"Metric: %s\\n\" \\\n",
    "            \"Preprocessing row: %d\\n\" \\\n",
    "            \"Removing stop words: %s\" % (metric, preprocessing_row, remove_stop_words)\n",
    "\n",
    "    print_msg_box(msg=msg, indent=30, title='Sentiment Analysis:')\n",
    "\n",
    "    #load train data\n",
    "    print(\"\\nLoad train data from %strain_row_%d.csv\" %\n",
    "          (FILES_DIRECTORY, preprocessing_row))\n",
    "    train_data = pd.read_csv(\"%strain_row_%d.csv\" % (FILES_DIRECTORY, preprocessing_row))\n",
    "    train_data['content'] = train_data['content'].values.astype('str')\n",
    "    \n",
    "    #shuffle train data\n",
    "    train_data = shuffle_data(train_data)\n",
    "\n",
    "    #load test data\n",
    "    print(\"Load test data from %stest_row_%d.csv\\n\" % (FILES_DIRECTORY, preprocessing_row))\n",
    "    test_data = pd.read_csv(\"%stest_row_%d.csv\" % (FILES_DIRECTORY, preprocessing_row))\n",
    "    \n",
    "    #create bow model\n",
    "    X_train, y_train, X_test, y_test = create_bow_model(\n",
    "        train_data=train_data, test_data=test_data, metric=metric, remove_stop_words=remove_stop_words)\n",
    "        \n",
    "    #reshape label vectors\n",
    "    y_train[y_train == 4] = 1\n",
    "    y_train = y_train.values.reshape(-1, 1)\n",
    "    y_test[y_test == 4] = 1\n",
    "    y_test = y_test.values.reshape(-1, 1)\n",
    "\n",
    "    #split into train and validation data\n",
    "    X_train, X_val, y_train, y_val = train_test_split(\n",
    "        X_train, y_train, test_size=0.1, random_state=42)\n",
    "\n",
    "    #leave out 6 samples because length has to be divisible by BATCH_SIZE (limitation by tensorflow privacy)\n",
    "    leave_out_samples_X = X_train[-6:]\n",
    "    leave_out_samples_y = y_train[-6:]\n",
    "    X_train = X_train[:-6]\n",
    "    y_train = y_train[:-6]\n",
    "    \n",
    "    #train LR Model\n",
    "    acc_lr = train_LR(X_train=X_train, y_train=y_train, X_test=X_test, y_test=y_test,\n",
    "                      X_val=X_val, y_val=y_val, metric=metric, preprocessing_row=preprocessing_row)"
   ]
  },
  {
   "cell_type": "markdown",
   "metadata": {
    "tags": []
   },
   "source": [
    "# Execution"
   ]
  },
  {
   "cell_type": "code",
   "execution_count": 20,
   "metadata": {},
   "outputs": [
    {
     "name": "stdout",
     "output_type": "stream",
     "text": [
      "╔═════════════════════════════════════════════════════════════════════════════════════╗\n",
      "║                              Sentiment Analysis:                                    ║\n",
      "║                              -------------------                                    ║\n",
      "║                              Metric: count                                          ║\n",
      "║                              Preprocessing row: 3                                   ║\n",
      "║                              Removing stop words: True                              ║\n",
      "╚═════════════════════════════════════════════════════════════════════════════════════╝\n",
      "\n",
      "Load train data from data/csv_rows/train_row_3.csv\n",
      "Load test data from data/csv_rows/test_row_3.csv\n",
      "\n",
      "\n",
      "\n",
      "╔════════════════════════════════════════╗\n",
      "║          Logistic Regression:          ║\n",
      "╚════════════════════════════════════════╝\n",
      "Epoch 1/58\n",
      "88854/88854 [==============================] - 175s 2ms/step - loss: 0.6557 - accuracy: 0.6067 - val_loss: 0.6400 - val_accuracy: 0.6173 - lr: 0.0010\n",
      "Epoch 2/58\n",
      "88854/88854 [==============================] - 164s 2ms/step - loss: 0.6268 - accuracy: 0.6336 - val_loss: 0.6159 - val_accuracy: 0.6466 - lr: 0.0010\n",
      "Epoch 3/58\n",
      "88854/88854 [==============================] - 165s 2ms/step - loss: 0.6052 - accuracy: 0.6582 - val_loss: 0.5981 - val_accuracy: 0.6686 - lr: 0.0010\n",
      "Epoch 4/58\n",
      "88854/88854 [==============================] - 169s 2ms/step - loss: 0.5908 - accuracy: 0.6757 - val_loss: 0.5866 - val_accuracy: 0.6813 - lr: 0.0010\n",
      "Epoch 5/58\n",
      "88854/88854 [==============================] - 174s 2ms/step - loss: 0.5813 - accuracy: 0.6864 - val_loss: 0.5789 - val_accuracy: 0.6899 - lr: 0.0010\n",
      "Epoch 6/58\n",
      "88854/88854 [==============================] - 176s 2ms/step - loss: 0.5742 - accuracy: 0.6944 - val_loss: 0.5732 - val_accuracy: 0.6965 - lr: 0.0010\n",
      "Epoch 7/58\n",
      "88854/88854 [==============================] - 181s 2ms/step - loss: 0.5692 - accuracy: 0.7004 - val_loss: 0.5685 - val_accuracy: 0.7023 - lr: 0.0010\n",
      "Epoch 8/58\n",
      "88854/88854 [==============================] - 169s 2ms/step - loss: 0.5650 - accuracy: 0.7053 - val_loss: 0.5644 - val_accuracy: 0.7068 - lr: 0.0010\n",
      "Epoch 9/58\n",
      "88854/88854 [==============================] - 173s 2ms/step - loss: 0.5615 - accuracy: 0.7096 - val_loss: 0.5615 - val_accuracy: 0.7106 - lr: 0.0010\n",
      "Epoch 10/58\n",
      "88854/88854 [==============================] - 178s 2ms/step - loss: 0.5585 - accuracy: 0.7132 - val_loss: 0.5590 - val_accuracy: 0.7139 - lr: 0.0010\n",
      "Epoch 11/58\n",
      "88854/88854 [==============================] - 179s 2ms/step - loss: 0.5560 - accuracy: 0.7164 - val_loss: 0.5568 - val_accuracy: 0.7168 - lr: 0.0010\n",
      "Epoch 12/58\n",
      "88854/88854 [==============================] - 182s 2ms/step - loss: 0.5538 - accuracy: 0.7189 - val_loss: 0.5546 - val_accuracy: 0.7192 - lr: 0.0010\n",
      "Epoch 13/58\n",
      "88854/88854 [==============================] - 182s 2ms/step - loss: 0.5520 - accuracy: 0.7213 - val_loss: 0.5529 - val_accuracy: 0.7217 - lr: 0.0010\n",
      "Epoch 14/58\n",
      "88854/88854 [==============================] - 183s 2ms/step - loss: 0.5503 - accuracy: 0.7237 - val_loss: 0.5513 - val_accuracy: 0.7235 - lr: 0.0010\n",
      "Epoch 15/58\n",
      "88854/88854 [==============================] - 185s 2ms/step - loss: 0.5489 - accuracy: 0.7255 - val_loss: 0.5500 - val_accuracy: 0.7253 - lr: 0.0010\n",
      "Epoch 16/58\n",
      "88854/88854 [==============================] - 188s 2ms/step - loss: 0.5476 - accuracy: 0.7272 - val_loss: 0.5490 - val_accuracy: 0.7268 - lr: 0.0010\n",
      "Epoch 17/58\n",
      "88854/88854 [==============================] - 189s 2ms/step - loss: 0.5465 - accuracy: 0.7287 - val_loss: 0.5476 - val_accuracy: 0.7282 - lr: 0.0010\n",
      "Epoch 18/58\n",
      "88854/88854 [==============================] - 191s 2ms/step - loss: 0.5453 - accuracy: 0.7302 - val_loss: 0.5468 - val_accuracy: 0.7295 - lr: 0.0010\n",
      "Epoch 19/58\n",
      "88854/88854 [==============================] - 193s 2ms/step - loss: 0.5443 - accuracy: 0.7315 - val_loss: 0.5458 - val_accuracy: 0.7305 - lr: 0.0010\n",
      "Epoch 20/58\n",
      "88854/88854 [==============================] - 194s 2ms/step - loss: 0.5434 - accuracy: 0.7326 - val_loss: 0.5447 - val_accuracy: 0.7322 - lr: 0.0010\n",
      "Epoch 21/58\n",
      "88854/88854 [==============================] - 197s 2ms/step - loss: 0.5425 - accuracy: 0.7338 - val_loss: 0.5442 - val_accuracy: 0.7333 - lr: 0.0010\n",
      "Epoch 22/58\n",
      "88854/88854 [==============================] - 197s 2ms/step - loss: 0.5418 - accuracy: 0.7347 - val_loss: 0.5434 - val_accuracy: 0.7342 - lr: 0.0010\n",
      "Epoch 23/58\n",
      "88854/88854 [==============================] - 199s 2ms/step - loss: 0.5412 - accuracy: 0.7356 - val_loss: 0.5430 - val_accuracy: 0.7350 - lr: 0.0010\n",
      "Epoch 24/58\n",
      "88854/88854 [==============================] - 201s 2ms/step - loss: 0.5405 - accuracy: 0.7366 - val_loss: 0.5423 - val_accuracy: 0.7360 - lr: 0.0010\n",
      "Epoch 25/58\n",
      "88854/88854 [==============================] - 203s 2ms/step - loss: 0.5399 - accuracy: 0.7375 - val_loss: 0.5415 - val_accuracy: 0.7371 - lr: 0.0010\n",
      "Epoch 26/58\n",
      "88854/88854 [==============================] - 205s 2ms/step - loss: 0.5393 - accuracy: 0.7382 - val_loss: 0.5410 - val_accuracy: 0.7378 - lr: 0.0010\n",
      "Epoch 27/58\n",
      "88854/88854 [==============================] - 206s 2ms/step - loss: 0.5388 - accuracy: 0.7390 - val_loss: 0.5404 - val_accuracy: 0.7385 - lr: 0.0010\n",
      "Epoch 28/58\n",
      "88854/88854 [==============================] - 201s 2ms/step - loss: 0.5383 - accuracy: 0.7397 - val_loss: 0.5400 - val_accuracy: 0.7393 - lr: 0.0010\n",
      "Epoch 29/58\n",
      "88854/88854 [==============================] - 194s 2ms/step - loss: 0.5378 - accuracy: 0.7403 - val_loss: 0.5399 - val_accuracy: 0.7402 - lr: 0.0010\n",
      "Epoch 30/58\n",
      "88854/88854 [==============================] - 197s 2ms/step - loss: 0.5375 - accuracy: 0.7409 - val_loss: 0.5393 - val_accuracy: 0.7409 - lr: 0.0010\n",
      "Epoch 31/58\n",
      "88854/88854 [==============================] - 197s 2ms/step - loss: 0.5370 - accuracy: 0.7416 - val_loss: 0.5387 - val_accuracy: 0.7415 - lr: 0.0010\n",
      "Epoch 32/58\n",
      "88854/88854 [==============================] - 203s 2ms/step - loss: 0.5365 - accuracy: 0.7422 - val_loss: 0.5384 - val_accuracy: 0.7420 - lr: 0.0010\n",
      "Epoch 33/58\n",
      "88854/88854 [==============================] - 203s 2ms/step - loss: 0.5362 - accuracy: 0.7425 - val_loss: 0.5381 - val_accuracy: 0.7424 - lr: 0.0010\n",
      "Epoch 34/58\n",
      "88854/88854 [==============================] - 200s 2ms/step - loss: 0.5358 - accuracy: 0.7431 - val_loss: 0.5376 - val_accuracy: 0.7432 - lr: 0.0010\n",
      "Epoch 35/58\n",
      "88854/88854 [==============================] - 204s 2ms/step - loss: 0.5352 - accuracy: 0.7438 - val_loss: 0.5374 - val_accuracy: 0.7435 - lr: 0.0010\n",
      "Epoch 36/58\n",
      "88854/88854 [==============================] - 205s 2ms/step - loss: 0.5351 - accuracy: 0.7442 - val_loss: 0.5372 - val_accuracy: 0.7438 - lr: 0.0010\n",
      "Epoch 37/58\n",
      "88854/88854 [==============================] - 209s 2ms/step - loss: 0.5348 - accuracy: 0.7447 - val_loss: 0.5370 - val_accuracy: 0.7443 - lr: 0.0010\n",
      "Epoch 38/58\n",
      "88854/88854 [==============================] - 211s 2ms/step - loss: 0.5345 - accuracy: 0.7452 - val_loss: 0.5368 - val_accuracy: 0.7449 - lr: 0.0010\n",
      "Epoch 39/58\n",
      "88854/88854 [==============================] - 214s 2ms/step - loss: 0.5342 - accuracy: 0.7456 - val_loss: 0.5364 - val_accuracy: 0.7453 - lr: 0.0010\n",
      "Epoch 40/58\n",
      "88854/88854 [==============================] - 216s 2ms/step - loss: 0.5339 - accuracy: 0.7461 - val_loss: 0.5365 - val_accuracy: 0.7456 - lr: 0.0010\n",
      "Epoch 41/58\n",
      "88854/88854 [==============================] - 212s 2ms/step - loss: 0.5339 - accuracy: 0.7463 - val_loss: 0.5360 - val_accuracy: 0.7461 - lr: 0.0010\n",
      "Epoch 42/58\n",
      "88854/88854 [==============================] - 224s 3ms/step - loss: 0.5337 - accuracy: 0.7467 - val_loss: 0.5360 - val_accuracy: 0.7463 - lr: 0.0010\n",
      "Epoch 43/58\n",
      "88854/88854 [==============================] - 227s 3ms/step - loss: 0.5334 - accuracy: 0.7471 - val_loss: 0.5357 - val_accuracy: 0.7467 - lr: 0.0010\n",
      "Epoch 44/58\n",
      "88854/88854 [==============================] - 222s 3ms/step - loss: 0.5330 - accuracy: 0.7475 - val_loss: 0.5355 - val_accuracy: 0.7469 - lr: 0.0010\n",
      "Epoch 45/58\n",
      "88854/88854 [==============================] - 230s 3ms/step - loss: 0.5329 - accuracy: 0.7480 - val_loss: 0.5352 - val_accuracy: 0.7474 - lr: 0.0010\n",
      "Epoch 46/58\n",
      "88854/88854 [==============================] - 234s 3ms/step - loss: 0.5327 - accuracy: 0.7482 - val_loss: 0.5351 - val_accuracy: 0.7476 - lr: 0.0010\n",
      "Epoch 47/58\n",
      "88854/88854 [==============================] - 231s 3ms/step - loss: 0.5325 - accuracy: 0.7486 - val_loss: 0.5349 - val_accuracy: 0.7478 - lr: 0.0010\n",
      "Epoch 48/58\n",
      "88854/88854 [==============================] - 236s 3ms/step - loss: 0.5324 - accuracy: 0.7488 - val_loss: 0.5348 - val_accuracy: 0.7480 - lr: 0.0010\n",
      "Epoch 49/58\n",
      "88854/88854 [==============================] - 238s 3ms/step - loss: 0.5321 - accuracy: 0.7491 - val_loss: 0.5345 - val_accuracy: 0.7483 - lr: 0.0010\n",
      "Epoch 50/58\n",
      "88854/88854 [==============================] - 247s 3ms/step - loss: 0.5318 - accuracy: 0.7494 - val_loss: 0.5342 - val_accuracy: 0.7486 - lr: 0.0010\n",
      "Epoch 51/58\n",
      "88854/88854 [==============================] - 254s 3ms/step - loss: 0.5315 - accuracy: 0.7497 - val_loss: 0.5340 - val_accuracy: 0.7489 - lr: 0.0010\n",
      "Epoch 52/58\n",
      "88854/88854 [==============================] - 256s 3ms/step - loss: 0.5314 - accuracy: 0.7499 - val_loss: 0.5337 - val_accuracy: 0.7491 - lr: 0.0010\n",
      "Epoch 53/58\n",
      "88854/88854 [==============================] - 245s 3ms/step - loss: 0.5312 - accuracy: 0.7502 - val_loss: 0.5337 - val_accuracy: 0.7493 - lr: 0.0010\n",
      "Epoch 54/58\n",
      "88854/88854 [==============================] - 249s 3ms/step - loss: 0.5311 - accuracy: 0.7504 - val_loss: 0.5336 - val_accuracy: 0.7493 - lr: 0.0010\n",
      "Epoch 55/58\n",
      "88854/88854 [==============================] - 258s 3ms/step - loss: 0.5308 - accuracy: 0.7506 - val_loss: 0.5333 - val_accuracy: 0.7495 - lr: 0.0010\n",
      "Epoch 56/58\n",
      "88854/88854 [==============================] - 275s 3ms/step - loss: 0.5305 - accuracy: 0.7510 - val_loss: 0.5331 - val_accuracy: 0.7499 - lr: 0.0010\n",
      "Epoch 57/58\n",
      "88854/88854 [==============================] - 277s 3ms/step - loss: 0.5304 - accuracy: 0.7512 - val_loss: 0.5329 - val_accuracy: 0.7502 - lr: 0.0010\n",
      "Epoch 58/58\n",
      "88854/88854 [==============================] - 275s 3ms/step - loss: 0.5303 - accuracy: 0.7514 - val_loss: 0.5329 - val_accuracy: 0.7505 - lr: 0.0010\n",
      "Model: \"sequential\"\n",
      "_________________________________________________________________\n",
      " Layer (type)                Output Shape              Param #   \n",
      "=================================================================\n",
      " dense (Dense)               (None, 1)                 5001      \n",
      "                                                                 \n",
      "=================================================================\n",
      "Total params: 5,001\n",
      "Trainable params: 5,001\n",
      "Non-trainable params: 0\n",
      "_________________________________________________________________\n",
      "None\n"
     ]
    },
    {
     "data": {
      "image/png": "[encoded data removed]",
      "text/plain": [
       "<Figure size 640x480 with 1 Axes>"
      ]
     },
     "metadata": {},
     "output_type": "display_data"
    },
    {
     "data": {
      "image/png": "[encoded data removed]",
      "text/plain": [
       "<Figure size 640x480 with 1 Axes>"
      ]
     },
     "metadata": {},
     "output_type": "display_data"
    },
    {
     "name": "stdout",
     "output_type": "stream",
     "text": [
      "12/12 [==============================] - 0s 1ms/step\n",
      "              precision    recall  f1-score   support\n",
      "\n",
      "           0       0.80      0.75      0.77       177\n",
      "           1       0.77      0.82      0.79       182\n",
      "\n",
      "    accuracy                           0.78       359\n",
      "   macro avg       0.78      0.78      0.78       359\n",
      "weighted avg       0.78      0.78      0.78       359\n",
      "\n",
      "Accuracy: 0.7827298050139275\n"
     ]
    }
   ],
   "source": [
    "sentiment_analysis(True, metric= \"count\", preprocessing_row=3)"
   ]
  }
 ],
 "metadata": {
  "kernelspec": {
   "display_name": "Python 3.9.5 64-bit",
   "language": "python",
   "name": "python3"
  },
  "language_info": {
   "codemirror_mode": {
    "name": "ipython",
    "version": 3
   },
   "file_extension": ".py",
   "mimetype": "text/x-python",
   "name": "python",
   "nbconvert_exporter": "python",
   "pygments_lexer": "ipython3",
   "version": "3.9.5"
  },
  "vscode": {
   "interpreter": {
    "hash": "542bad02869b321a73a7da5260ee6f5456fa9b86f73b69a004054f84e7b0338b"
   }
  }
 },
 "nbformat": 4,
 "nbformat_minor": 4
}
