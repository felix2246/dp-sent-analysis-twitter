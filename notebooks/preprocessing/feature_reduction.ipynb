{
 "cells": [
  {
   "cell_type": "code",
   "execution_count": 1,
   "metadata": {},
   "outputs": [
    {
     "name": "stdout",
     "output_type": "stream",
     "text": [
      "Feature count for row 1: 851573\n",
      "Feature count for row 2: 428036\n",
      "Feature count for row 3: 427725\n",
      "Feature count for row 4: 427959\n",
      "Feature count for row 5: 427652\n"
     ]
    }
   ],
   "source": [
    "import pandas as pd\n",
    "import numpy as np\n",
    "from sklearn.feature_extraction.text import CountVectorizer\n",
    "import json\n",
    "\n",
    "f_stopwords = open('stopwords.json')\n",
    "stopwords_list = json.load(f_stopwords)\n",
    "\n",
    "def feature_count(corpus, stop_words):\n",
    "    sw = stopwords_list if stop_words == True else None\n",
    "    bow = CountVectorizer(stop_words=sw, token_pattern=r\"(?u)\\b\\w\\w+\\b\")\n",
    "    bow.fit_transform(corpus)\n",
    "    return len(bow.get_feature_names_out())\n",
    "\n",
    "\n",
    "def evaluate_feature_reduction():\n",
    "    for i in range(1, 6): \n",
    "        # Rows 3 and 5 expect removal of stopwords\n",
    "        stop_words = True if i in [3, 5] else False\n",
    "        #load preprocessed dataset\n",
    "        df = pd.read_csv('data/csv_rows/train_row_%d.csv' % i)\n",
    "        corpus = df['content']\n",
    "        fc = feature_count(corpus, stop_words)\n",
    "        print('Feature count for row %d: %d' % (i, fc))\n",
    "\n",
    "\n",
    "evaluate_feature_reduction()\n"
   ]
  }
 ],
 "metadata": {
  "kernelspec": {
   "display_name": "Python 3.9.5 64-bit",
   "language": "python",
   "name": "python3"
  },
  "language_info": {
   "codemirror_mode": {
    "name": "ipython",
    "version": 3
   },
   "file_extension": ".py",
   "mimetype": "text/x-python",
   "name": "python",
   "nbconvert_exporter": "python",
   "pygments_lexer": "ipython3",
   "version": "3.9.5"
  },
  "orig_nbformat": 4,
  "vscode": {
   "interpreter": {
    "hash": "542bad02869b321a73a7da5260ee6f5456fa9b86f73b69a004054f84e7b0338b"
   }
  }
 },
 "nbformat": 4,
 "nbformat_minor": 2
}
