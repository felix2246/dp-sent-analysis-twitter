{
 "cells": [
  {
   "cell_type": "code",
   "execution_count": 7,
   "metadata": {},
   "outputs": [
    {
     "name": "stdout",
     "output_type": "stream",
     "text": [
      "['disaster' 'going' 'hoped' 'news' 'tragedy' 'week']\n",
      "[[0.         0.6316672  0.6316672  0.         0.         0.44943642]\n",
      " [0.53404633 0.         0.         0.53404633 0.53404633 0.37997836]]\n"
     ]
    }
   ],
   "source": [
    "import pandas as pd\n",
    "import numpy as np\n",
    "from sklearn.feature_extraction.text import TfidfVectorizer\n",
    "import json\n",
    "\n",
    "f_stopwords = open('stopwords.json')\n",
    "stopwords_list = json.load(f_stopwords)\n",
    "\n",
    "\n",
    "corpus = ['this week is not going as i had hoped',\n",
    "          'what tragedy and disaster in the news this week']\n",
    "\n",
    "def example_bow(corpus, stop_words):\n",
    "    sw = stopwords_list if stop_words == True else None\n",
    "    bow = TfidfVectorizer(stop_words=sw, token_pattern=r\"(?u)\\b\\w\\w+\\b\")\n",
    "    matrix = bow.fit_transform(corpus)\n",
    "    print(bow.get_feature_names_out())\n",
    "    print(matrix.todense())\n",
    "\n",
    "\n",
    "example_bow(corpus, True)\n"
   ]
  }
 ],
 "metadata": {
  "kernelspec": {
   "display_name": "Python 3.9.5 64-bit",
   "language": "python",
   "name": "python3"
  },
  "language_info": {
   "codemirror_mode": {
    "name": "ipython",
    "version": 3
   },
   "file_extension": ".py",
   "mimetype": "text/x-python",
   "name": "python",
   "nbconvert_exporter": "python",
   "pygments_lexer": "ipython3",
   "version": "3.9.5"
  },
  "orig_nbformat": 4,
  "vscode": {
   "interpreter": {
    "hash": "542bad02869b321a73a7da5260ee6f5456fa9b86f73b69a004054f84e7b0338b"
   }
  }
 },
 "nbformat": 4,
 "nbformat_minor": 2
}
